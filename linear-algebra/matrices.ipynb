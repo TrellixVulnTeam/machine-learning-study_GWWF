{
 "metadata": {
  "language_info": {
   "codemirror_mode": {
    "name": "ipython",
    "version": 3
   },
   "file_extension": ".py",
   "mimetype": "text/x-python",
   "name": "python",
   "nbconvert_exporter": "python",
   "pygments_lexer": "ipython3",
   "version": "3.8.5-final"
  },
  "orig_nbformat": 2,
  "kernelspec": {
   "name": "python38564bitenvf5942fe0b10c41deb9cc16228180c7c4",
   "display_name": "Python 3.8.5 64-bit ('env')",
   "language": "python"
  }
 },
 "nbformat": 4,
 "nbformat_minor": 2,
 "cells": [
  {
   "source": [
    "# Matrices   \n",
    "A matrix is a two-dimensional collection of numbers. We will represent matrices as lists of lists, with each inner list having the same size and representing a row of the matrix. If A is a matrix, then A\\[i]\\[j] is the element in the ith row and the jth column. Per mathematical convention, we will frequently use capital letters to represent matrices. For example:"
   ],
   "cell_type": "markdown",
   "metadata": {}
  },
  {
   "cell_type": "code",
   "execution_count": null,
   "metadata": {},
   "outputs": [],
   "source": [
    "# Another type alias\n",
    "Matrix = List[List[float]]\n",
    "\n",
    "A = [[1, 2, 3], # A has 2 rows and 3 columns\n",
    "     [4, 5, 6]]\n",
    "\n",
    "B = [[1,2],     # B has 3 rows and 2 columns\n",
    "     [3,4],\n",
    "     [5,6]]"
   ]
  },
  {
   "source": [
    "Given this list-of-lists representation, the matrix A has len(A) rows and len(A\\[0]) columns, which we consider its shape :"
   ],
   "cell_type": "markdown",
   "metadata": {}
  },
  {
   "source": [
    "from typing import Tuple\n",
    "from typing import List"
   ],
   "cell_type": "code",
   "metadata": {},
   "execution_count": 4,
   "outputs": []
  },
  {
   "cell_type": "code",
   "execution_count": 5,
   "metadata": {},
   "outputs": [],
   "source": [
    "Matrix = List[List[float]]\n",
    "\n",
    "def shape(A: Matrix) -> Tuple[int, int]:\n",
    "    \"\"\" Returns (# of rows of A, # of columns of A) \"\"\"\n",
    "    num_rows = len(A)\n",
    "    num_cols = len(A[0]) if A else 0    # Number of elements in the first row\n",
    "\n",
    "    return num_rows, num_cols\n",
    "\n",
    "assert shape([[1, 2, 3], [4, 5, 6]]) == (2, 3) # 2 rows, 3 columns"
   ]
  },
  {
   "source": [
    "If a matrix has n rows and k columns, we will refer to it as an n × k matrix. We can (and sometimes will) think of each row of an n × k matrix as a vector of length k, and each column as a vector of length n:"
   ],
   "cell_type": "markdown",
   "metadata": {}
  },
  {
   "cell_type": "code",
   "execution_count": 8,
   "metadata": {},
   "outputs": [],
   "source": [
    "Vector = List[float]\n",
    "def get_row(A: Matrix, i: int) -> Vector:\n",
    "    \"\"\"Returns the i-th row of A (as a Vector)\"\"\"\n",
    "    return A[i] # A[i] is already the ith row\n",
    "\n",
    "def get_column(A: Matrix, j: int) -> Vector:\n",
    "    \"\"\"Returns the j-th column of  A (as a Vector)\"\"\"\n",
    "    return [A_i[j]          # jth element of row A_i\n",
    "            for A_i in A]   # for each row of A_i\n",
    "    "
   ]
  },
  {
   "source": [
    "We’ll also want to be able to create a matrix given its shape and a function for generating its elements. We can do this using a nested list comprehension:"
   ],
   "cell_type": "markdown",
   "metadata": {}
  },
  {
   "cell_type": "code",
   "execution_count": 9,
   "metadata": {},
   "outputs": [],
   "source": [
    "from typing import Callable\n",
    "\n",
    "def make_matrix(num_rows: int,\n",
    "                num_cols: int,\n",
    "                entry_fn: Callable[[int, int], float]) -> float:\n",
    "\n",
    "    \"\"\" \n",
    "        Returns a num_rows x num_cols matrix\n",
    "        whose (i, j)-th entry is entry_fn(i, j)\n",
    "    \"\"\"\n",
    "\n",
    "    return [[entry_fn(i,j)              # Given entry i, create a list\n",
    "             for j in range(num_cols)]  #   [entry_fn(i, 0), ...]\n",
    "             for i in range(num_rows)]  # create one list for each i\n",
    "\n",
    "# Given this function, you could make a 5 × 5 identity matrix (with 1s on the diagonal and 0s elsewhere) like so:\n",
    "def identity_matrix(n: int) -> Matrix:\n",
    "    \"\"\" Returns the nxn identity matrix \"\"\"\n",
    "    return make_matrix(n, n, lambda i, j: 1 if i == j else 0)\n",
    "\n",
    "assert identity_matrix(5) == [[1, 0, 0, 0, 0],\n",
    "                              [0, 1, 0, 0, 0],\n",
    "                              [0, 0, 1, 0, 0],\n",
    "                              [0, 0, 0, 1, 0],\n",
    "                              [0, 0, 0, 0, 1]]\n",
    "\n"
   ]
  },
  {
   "cell_type": "code",
   "execution_count": null,
   "metadata": {},
   "outputs": [],
   "source": []
  }
 ]
}