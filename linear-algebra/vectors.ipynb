{
 "metadata": {
  "language_info": {
   "codemirror_mode": {
    "name": "ipython",
    "version": 3
   },
   "file_extension": ".py",
   "mimetype": "text/x-python",
   "name": "python",
   "nbconvert_exporter": "python",
   "pygments_lexer": "ipython3",
   "version": "3.8.5-final"
  },
  "orig_nbformat": 2,
  "kernelspec": {
   "name": "python38564bitenvf5942fe0b10c41deb9cc16228180c7c4",
   "display_name": "Python 3.8.5 64-bit ('env')",
   "language": "python"
  }
 },
 "nbformat": 4,
 "nbformat_minor": 2,
 "cells": [
  {
   "source": [
    "# Vectors\n",
    "\n",
    "The simpliest from-scratch approach is to represent vectors as lists of numbers. A list of three numbers corresponds to a vector in three dimensional space and viceversa."
   ],
   "cell_type": "markdown",
   "metadata": {}
  },
  {
   "cell_type": "code",
   "execution_count": 1,
   "metadata": {},
   "outputs": [],
   "source": [
    "from typing import List"
   ]
  },
  {
   "cell_type": "code",
   "execution_count": 2,
   "metadata": {},
   "outputs": [],
   "source": [
    "Vector = List[float]"
   ]
  },
  {
   "cell_type": "code",
   "execution_count": 3,
   "metadata": {},
   "outputs": [],
   "source": [
    "height_weight_age = [\n",
    "    70,  # inches\n",
    "    170, # pounds\n",
    "    40   # years\n",
    "]"
   ]
  },
  {
   "cell_type": "code",
   "execution_count": 6,
   "metadata": {},
   "outputs": [],
   "source": [
    "grades = [\n",
    "    95, # exam 1\n",
    "    80, # exam 2\n",
    "    75, # exam 3\n",
    "    62 # exam 4\n",
    "]"
   ]
  },
  {
   "source": [
    "We’ll also want to perform arithmetic on vectors. Because Python lists aren’t vectors (and hence provide no facilities for vector arithmetic), we’ll need to build these arithmetic tools  ourselves. So let’s start with that.   \n",
    "\n",
    "To begin with, we’ll frequently need to add two vectors. Vectors add component wise. This means that if two vectors v and w are the same length, their sum is just the vector whose first element is v\\[0] + w\\[0] , whose second element is v\\[1] + w\\[1] , and so on. (If they’re not the same length, then we’re not allowed to add them.)   \n",
    "\n",
    "For example, adding the vectors \\[1, 2] and \\[2, 1] results in \\[1 + 2, 2+ 1] or \\[3, 3]"
   ],
   "cell_type": "markdown",
   "metadata": {}
  },
  {
   "cell_type": "code",
   "execution_count": 8,
   "metadata": {},
   "outputs": [],
   "source": [
    "# We can easily implement this by zip-ing the vectors together and using a list comprehension to add the corresponding elements:\n",
    "def add(v: Vector, w: Vector) -> Vector:\n",
    "    \"\"\" Adds corresponding elements \"\"\"\n",
    "    assert len(v) == len(w), \"Vectors must be the same length\"\n",
    "\n",
    "    return [ v_i + w_i for v_i, w_i in zip(v, w) ]\n",
    "\n",
    "assert add([1,2,3], [4,5,6]) == [5, 7, 9]"
   ]
  },
  {
   "cell_type": "code",
   "execution_count": 9,
   "metadata": {},
   "outputs": [],
   "source": [
    "#Similarly, to subtract two vectors we just subtract the corresponding elements:\n",
    "def subtract(v:Vector, w:Vector) -> Vector:\n",
    "    \"\"\" Subtracts corresponding elements \"\"\"\n",
    "    assert len(v) == len(w), \"Vector must be the same length\"\n",
    "\n",
    "    return [ v_i - w_i for v_i, w_i in zip(v, w) ]\n",
    "\n",
    "assert subtract([5,7,9], [4,5,6]) == [1,2,3]"
   ]
  },
  {
   "source": [
    "We’ll also sometimes want to componentwise sum a list of vectors—that is, create a new vector whose first element is the sum of all the first elements, whose second element is the sum of all the second elements, and so on:"
   ],
   "cell_type": "markdown",
   "metadata": {}
  },
  {
   "cell_type": "code",
   "execution_count": 12,
   "metadata": {},
   "outputs": [],
   "source": [
    "def vector_sum(vectors: List[Vector]) -> Vector:\n",
    "    \"\"\" Sums all coresponding elements \"\"\"\n",
    "    \n",
    "    # Check that vectors is not empty\n",
    "    assert vectors, \"No vectors provided!\"\n",
    "\n",
    "    # Check the vectors are all the same size\n",
    "    num_elements = len(vectors[0])\n",
    "    assert all(len(v) == num_elements for v in vectors), \"different sizes!\"\n",
    "\n",
    "    # The i-th element of the result is the sum of every vector[i]\n",
    "    return [sum(vector[i] for vector in vectors)\n",
    "            for i in range(num_elements)]\n",
    "\n",
    "assert vector_sum([[1,2], [3,4], [5,6], [7,8]]) == [16,20]\n"
   ]
  },
  {
   "source": [
    "We’ll also need to be able to multiply a vector by a scalar, which we do simply by multiplying each element of the vector by that number:"
   ],
   "cell_type": "markdown",
   "metadata": {}
  },
  {
   "cell_type": "code",
   "execution_count": 13,
   "metadata": {},
   "outputs": [],
   "source": [
    "def scalar_multiply(c: float, v: Vector) -> Vector:\n",
    "    \"\"\" Multiplies every element by c \"\"\"\n",
    "    return [ c * v_i for v_i in v ]\n",
    "\n",
    "assert scalar_multiply(2, [1,2,3]) == [2,4,6]"
   ]
  },
  {
   "cell_type": "code",
   "execution_count": 14,
   "metadata": {},
   "outputs": [],
   "source": [
    "# This allows us to compute the componentwise means of a list of (same-sized) vectors:\n",
    "def vector_mean(vectors: List[Vector]) -> Vector:\n",
    "    \"\"\" Computes the element-wise average \"\"\"\n",
    "\n",
    "    n = len(vectors)\n",
    "\n",
    "    return scalar_multiply(1/n, vector_sum(vectors))\n",
    "\n",
    "assert vector_mean([[1,2], [3,4], [5,6]]) == [3,4]"
   ]
  },
  {
   "cell_type": "code",
   "execution_count": 15,
   "metadata": {},
   "outputs": [],
   "source": [
    "# A less obvious tool is the dot product. The dot product of two vectors is the sum of their componentwise products:\n",
    "def dot(v: Vector, w: Vector) -> float:\n",
    "    \"\"\" Computes v_1 * w_1 + ... + v_n * w_n \"\"\"\n",
    "\n",
    "    assert len(v) == len(w), \"Vectors must be same length\"\n",
    "\n",
    "    return sum(v_i * w_i for v_i, w_i in zip(v, w))\n",
    "\n",
    "assert dot([1,2,3], [4,5,6]) == 32 # 1*4 + 2*5 + 3*6 = 32\n"
   ]
  },
  {
   "source": [
    "If w has magnitude 1, the dot product measures how far the vector v extends in the w direction.  For example, if w = \\[1, 0] , then dot(v, w) is just the first component of v . Another way of saying this is that it’s the length of the vector you’d get if you projected v onto w"
   ],
   "cell_type": "markdown",
   "metadata": {}
  },
  {
   "cell_type": "code",
   "execution_count": 16,
   "metadata": {},
   "outputs": [],
   "source": [
    "# Using this, it’s easy to compute a vector’s sum of squares:\n",
    "def sum_of_squares(v: Vector) -> float:\n",
    "    \"\"\" Returns v_1 * v_1 + ... + v_n * v_n \"\"\"\n",
    "\n",
    "    return dot(v,v)\n",
    "\n",
    "assert sum_of_squares([1,2,3]) == 14 # 1 * 1 + 2 * 2 + 3 * 3\n"
   ]
  },
  {
   "cell_type": "code",
   "execution_count": 17,
   "metadata": {},
   "outputs": [],
   "source": [
    "# which we can use to compute its magnitude (or length):\n",
    "import math\n",
    "\n",
    "def magnitude(v: Vector) -> float:\n",
    "    \"\"\" Return the magnitude (or length) of v \"\"\"\n",
    "\n",
    "    return math.sqrt(sum_of_squares(v))\n",
    "\n",
    "assert magnitude([3,4]) == 5"
   ]
  },
  {
   "source": [
    "We now have all the pieces we need to compute the distance between two vectors, defined as:   \n",
    "√ (v 1 − w 1 )^2+ ... + (v n − w n )^2"
   ],
   "cell_type": "markdown",
   "metadata": {}
  },
  {
   "cell_type": "code",
   "execution_count": 19,
   "metadata": {},
   "outputs": [],
   "source": [
    "# In code\n",
    "def squared_distance(v: Vector, w: Vector) -> float:\n",
    "    \"\"\" Computes (v_1 - w_1) ** 2 + ... + (v_n - w_n) ** 2 \"\"\"\n",
    "    return sum_of_squares(subtract(v, w))\n",
    "\n",
    "def distance(v: Vector, w: Vector) -> float:\n",
    "    \"\"\" Computes the distance between v and w \"\"\"\n",
    "    #return math.sqrt(squared_distance(v,w))\n",
    "    return magnitude(subtract(v,w))    "
   ]
  }
 ]
}