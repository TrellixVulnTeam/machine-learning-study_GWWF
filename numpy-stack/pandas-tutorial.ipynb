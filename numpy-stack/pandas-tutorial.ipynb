{
 "metadata": {
  "language_info": {
   "codemirror_mode": {
    "name": "ipython",
    "version": 3
   },
   "file_extension": ".py",
   "mimetype": "text/x-python",
   "name": "python",
   "nbconvert_exporter": "python",
   "pygments_lexer": "ipython3",
   "version": "3.9.0-final"
  },
  "orig_nbformat": 2,
  "kernelspec": {
   "name": "python39064bitenv7cf198b9fa28480f84a2a7f4d5077720",
   "display_name": "Python 3.9.0 64-bit ('env')",
   "language": "python"
  }
 },
 "nbformat": 4,
 "nbformat_minor": 2,
 "cells": [
  {
   "source": [
    "# Loading in Data"
   ],
   "cell_type": "markdown",
   "metadata": {}
  },
  {
   "cell_type": "code",
   "execution_count": 1,
   "metadata": {},
   "outputs": [],
   "source": [
    "import pandas as pd"
   ]
  },
  {
   "cell_type": "code",
   "execution_count": 2,
   "metadata": {},
   "outputs": [
    {
     "output_type": "stream",
     "name": "stdout",
     "text": [
      "--2021-01-06 13:22:34--  https://raw.githubusercontent.com/lazyprogrammer/machine_learning_examples/master/tf2.0/sbux.csv\n",
      "Resolving raw.githubusercontent.com (raw.githubusercontent.com)... 151.101.196.133\n",
      "Connecting to raw.githubusercontent.com (raw.githubusercontent.com)|151.101.196.133|:443... connected.\n",
      "HTTP request sent, awaiting response... 200 OK\n",
      "Length: 61896 (60K) [text/plain]\n",
      "Saving to: ‘sbux.csv’\n",
      "\n",
      "sbux.csv            100%[===================>]  60.45K  --.-KB/s    in 0.09s   \n",
      "\n",
      "2021-01-06 13:22:35 (644 KB/s) - ‘sbux.csv’ saved [61896/61896]\n",
      "\n"
     ]
    }
   ],
   "source": [
    "!wget https://raw.githubusercontent.com/lazyprogrammer/machine_learning_examples/master/tf2.0/sbux.csv"
   ]
  },
  {
   "cell_type": "code",
   "execution_count": 3,
   "metadata": {},
   "outputs": [],
   "source": [
    "df = pd.read_csv('sbux.csv')"
   ]
  },
  {
   "cell_type": "code",
   "execution_count": 4,
   "metadata": {},
   "outputs": [
    {
     "output_type": "execute_result",
     "data": {
      "text/plain": [
       "pandas.core.frame.DataFrame"
      ]
     },
     "metadata": {},
     "execution_count": 4
    }
   ],
   "source": [
    "type(df)"
   ]
  },
  {
   "cell_type": "code",
   "execution_count": 5,
   "metadata": {},
   "outputs": [
    {
     "output_type": "stream",
     "name": "stdout",
     "text": [
      "date,open,high,low,close,volume,Name\n2013-02-08,27.92,28.325,27.92,28.185,7146296,SBUX\n2013-02-11,28.26,28.26,27.93,28.07,5457354,SBUX\n2013-02-12,28.0,28.275,27.975,28.13,8665592,SBUX\n2013-02-13,28.23,28.23,27.75,27.915,7022056,SBUX\n2013-02-14,27.765,27.905,27.675,27.775,8899188,SBUX\n2013-02-15,27.805,27.85,27.085,27.17,18195730,SBUX\n2013-02-19,27.18,27.305,27.01,27.225,11760912,SBUX\n2013-02-20,27.3,27.42,26.59,26.655,12472506,SBUX\n2013-02-21,26.535,26.82,26.26,26.675,13896450,SBUX\n"
     ]
    }
   ],
   "source": [
    "!head sbux.csv"
   ]
  },
  {
   "cell_type": "code",
   "execution_count": 6,
   "metadata": {},
   "outputs": [
    {
     "output_type": "execute_result",
     "data": {
      "text/plain": [
       "         date    open    high     low   close   volume  Name\n",
       "0  2013-02-08  27.920  28.325  27.920  28.185  7146296  SBUX\n",
       "1  2013-02-11  28.260  28.260  27.930  28.070  5457354  SBUX\n",
       "2  2013-02-12  28.000  28.275  27.975  28.130  8665592  SBUX\n",
       "3  2013-02-13  28.230  28.230  27.750  27.915  7022056  SBUX\n",
       "4  2013-02-14  27.765  27.905  27.675  27.775  8899188  SBUX"
      ],
      "text/html": "<div>\n<style scoped>\n    .dataframe tbody tr th:only-of-type {\n        vertical-align: middle;\n    }\n\n    .dataframe tbody tr th {\n        vertical-align: top;\n    }\n\n    .dataframe thead th {\n        text-align: right;\n    }\n</style>\n<table border=\"1\" class=\"dataframe\">\n  <thead>\n    <tr style=\"text-align: right;\">\n      <th></th>\n      <th>date</th>\n      <th>open</th>\n      <th>high</th>\n      <th>low</th>\n      <th>close</th>\n      <th>volume</th>\n      <th>Name</th>\n    </tr>\n  </thead>\n  <tbody>\n    <tr>\n      <th>0</th>\n      <td>2013-02-08</td>\n      <td>27.920</td>\n      <td>28.325</td>\n      <td>27.920</td>\n      <td>28.185</td>\n      <td>7146296</td>\n      <td>SBUX</td>\n    </tr>\n    <tr>\n      <th>1</th>\n      <td>2013-02-11</td>\n      <td>28.260</td>\n      <td>28.260</td>\n      <td>27.930</td>\n      <td>28.070</td>\n      <td>5457354</td>\n      <td>SBUX</td>\n    </tr>\n    <tr>\n      <th>2</th>\n      <td>2013-02-12</td>\n      <td>28.000</td>\n      <td>28.275</td>\n      <td>27.975</td>\n      <td>28.130</td>\n      <td>8665592</td>\n      <td>SBUX</td>\n    </tr>\n    <tr>\n      <th>3</th>\n      <td>2013-02-13</td>\n      <td>28.230</td>\n      <td>28.230</td>\n      <td>27.750</td>\n      <td>27.915</td>\n      <td>7022056</td>\n      <td>SBUX</td>\n    </tr>\n    <tr>\n      <th>4</th>\n      <td>2013-02-14</td>\n      <td>27.765</td>\n      <td>27.905</td>\n      <td>27.675</td>\n      <td>27.775</td>\n      <td>8899188</td>\n      <td>SBUX</td>\n    </tr>\n  </tbody>\n</table>\n</div>"
     },
     "metadata": {},
     "execution_count": 6
    }
   ],
   "source": [
    "df.head()"
   ]
  },
  {
   "cell_type": "code",
   "execution_count": 7,
   "metadata": {},
   "outputs": [
    {
     "output_type": "execute_result",
     "data": {
      "text/plain": [
       "         date    open    high     low   close    volume  Name\n",
       "0  2013-02-08  27.920  28.325  27.920  28.185   7146296  SBUX\n",
       "1  2013-02-11  28.260  28.260  27.930  28.070   5457354  SBUX\n",
       "2  2013-02-12  28.000  28.275  27.975  28.130   8665592  SBUX\n",
       "3  2013-02-13  28.230  28.230  27.750  27.915   7022056  SBUX\n",
       "4  2013-02-14  27.765  27.905  27.675  27.775   8899188  SBUX\n",
       "5  2013-02-15  27.805  27.850  27.085  27.170  18195730  SBUX\n",
       "6  2013-02-19  27.180  27.305  27.010  27.225  11760912  SBUX\n",
       "7  2013-02-20  27.300  27.420  26.590  26.655  12472506  SBUX\n",
       "8  2013-02-21  26.535  26.820  26.260  26.675  13896450  SBUX\n",
       "9  2013-02-22  26.850  27.105  26.640  27.085  11487316  SBUX"
      ],
      "text/html": "<div>\n<style scoped>\n    .dataframe tbody tr th:only-of-type {\n        vertical-align: middle;\n    }\n\n    .dataframe tbody tr th {\n        vertical-align: top;\n    }\n\n    .dataframe thead th {\n        text-align: right;\n    }\n</style>\n<table border=\"1\" class=\"dataframe\">\n  <thead>\n    <tr style=\"text-align: right;\">\n      <th></th>\n      <th>date</th>\n      <th>open</th>\n      <th>high</th>\n      <th>low</th>\n      <th>close</th>\n      <th>volume</th>\n      <th>Name</th>\n    </tr>\n  </thead>\n  <tbody>\n    <tr>\n      <th>0</th>\n      <td>2013-02-08</td>\n      <td>27.920</td>\n      <td>28.325</td>\n      <td>27.920</td>\n      <td>28.185</td>\n      <td>7146296</td>\n      <td>SBUX</td>\n    </tr>\n    <tr>\n      <th>1</th>\n      <td>2013-02-11</td>\n      <td>28.260</td>\n      <td>28.260</td>\n      <td>27.930</td>\n      <td>28.070</td>\n      <td>5457354</td>\n      <td>SBUX</td>\n    </tr>\n    <tr>\n      <th>2</th>\n      <td>2013-02-12</td>\n      <td>28.000</td>\n      <td>28.275</td>\n      <td>27.975</td>\n      <td>28.130</td>\n      <td>8665592</td>\n      <td>SBUX</td>\n    </tr>\n    <tr>\n      <th>3</th>\n      <td>2013-02-13</td>\n      <td>28.230</td>\n      <td>28.230</td>\n      <td>27.750</td>\n      <td>27.915</td>\n      <td>7022056</td>\n      <td>SBUX</td>\n    </tr>\n    <tr>\n      <th>4</th>\n      <td>2013-02-14</td>\n      <td>27.765</td>\n      <td>27.905</td>\n      <td>27.675</td>\n      <td>27.775</td>\n      <td>8899188</td>\n      <td>SBUX</td>\n    </tr>\n    <tr>\n      <th>5</th>\n      <td>2013-02-15</td>\n      <td>27.805</td>\n      <td>27.850</td>\n      <td>27.085</td>\n      <td>27.170</td>\n      <td>18195730</td>\n      <td>SBUX</td>\n    </tr>\n    <tr>\n      <th>6</th>\n      <td>2013-02-19</td>\n      <td>27.180</td>\n      <td>27.305</td>\n      <td>27.010</td>\n      <td>27.225</td>\n      <td>11760912</td>\n      <td>SBUX</td>\n    </tr>\n    <tr>\n      <th>7</th>\n      <td>2013-02-20</td>\n      <td>27.300</td>\n      <td>27.420</td>\n      <td>26.590</td>\n      <td>26.655</td>\n      <td>12472506</td>\n      <td>SBUX</td>\n    </tr>\n    <tr>\n      <th>8</th>\n      <td>2013-02-21</td>\n      <td>26.535</td>\n      <td>26.820</td>\n      <td>26.260</td>\n      <td>26.675</td>\n      <td>13896450</td>\n      <td>SBUX</td>\n    </tr>\n    <tr>\n      <th>9</th>\n      <td>2013-02-22</td>\n      <td>26.850</td>\n      <td>27.105</td>\n      <td>26.640</td>\n      <td>27.085</td>\n      <td>11487316</td>\n      <td>SBUX</td>\n    </tr>\n  </tbody>\n</table>\n</div>"
     },
     "metadata": {},
     "execution_count": 7
    }
   ],
   "source": [
    "df.head(10)"
   ]
  },
  {
   "cell_type": "code",
   "execution_count": 8,
   "metadata": {},
   "outputs": [
    {
     "output_type": "execute_result",
     "data": {
      "text/plain": [
       "            date    open   high    low  close    volume  Name\n",
       "1254  2018-02-01  56.280  56.42  55.89  56.00  14690146  SBUX\n",
       "1255  2018-02-02  55.900  56.32  55.70  55.77  15358909  SBUX\n",
       "1256  2018-02-05  55.530  56.26  54.57  54.69  16059955  SBUX\n",
       "1257  2018-02-06  53.685  56.06  53.56  55.61  17415065  SBUX\n",
       "1258  2018-02-07  55.080  55.43  54.44  54.46  13927022  SBUX"
      ],
      "text/html": "<div>\n<style scoped>\n    .dataframe tbody tr th:only-of-type {\n        vertical-align: middle;\n    }\n\n    .dataframe tbody tr th {\n        vertical-align: top;\n    }\n\n    .dataframe thead th {\n        text-align: right;\n    }\n</style>\n<table border=\"1\" class=\"dataframe\">\n  <thead>\n    <tr style=\"text-align: right;\">\n      <th></th>\n      <th>date</th>\n      <th>open</th>\n      <th>high</th>\n      <th>low</th>\n      <th>close</th>\n      <th>volume</th>\n      <th>Name</th>\n    </tr>\n  </thead>\n  <tbody>\n    <tr>\n      <th>1254</th>\n      <td>2018-02-01</td>\n      <td>56.280</td>\n      <td>56.42</td>\n      <td>55.89</td>\n      <td>56.00</td>\n      <td>14690146</td>\n      <td>SBUX</td>\n    </tr>\n    <tr>\n      <th>1255</th>\n      <td>2018-02-02</td>\n      <td>55.900</td>\n      <td>56.32</td>\n      <td>55.70</td>\n      <td>55.77</td>\n      <td>15358909</td>\n      <td>SBUX</td>\n    </tr>\n    <tr>\n      <th>1256</th>\n      <td>2018-02-05</td>\n      <td>55.530</td>\n      <td>56.26</td>\n      <td>54.57</td>\n      <td>54.69</td>\n      <td>16059955</td>\n      <td>SBUX</td>\n    </tr>\n    <tr>\n      <th>1257</th>\n      <td>2018-02-06</td>\n      <td>53.685</td>\n      <td>56.06</td>\n      <td>53.56</td>\n      <td>55.61</td>\n      <td>17415065</td>\n      <td>SBUX</td>\n    </tr>\n    <tr>\n      <th>1258</th>\n      <td>2018-02-07</td>\n      <td>55.080</td>\n      <td>55.43</td>\n      <td>54.44</td>\n      <td>54.46</td>\n      <td>13927022</td>\n      <td>SBUX</td>\n    </tr>\n  </tbody>\n</table>\n</div>"
     },
     "metadata": {},
     "execution_count": 8
    }
   ],
   "source": [
    "df.tail()"
   ]
  },
  {
   "cell_type": "code",
   "execution_count": 9,
   "metadata": {},
   "outputs": [
    {
     "output_type": "stream",
     "name": "stdout",
     "text": [
      "<class 'pandas.core.frame.DataFrame'>\nRangeIndex: 1259 entries, 0 to 1258\nData columns (total 7 columns):\n #   Column  Non-Null Count  Dtype  \n---  ------  --------------  -----  \n 0   date    1259 non-null   object \n 1   open    1259 non-null   float64\n 2   high    1259 non-null   float64\n 3   low     1259 non-null   float64\n 4   close   1259 non-null   float64\n 5   volume  1259 non-null   int64  \n 6   Name    1259 non-null   object \ndtypes: float64(4), int64(1), object(2)\nmemory usage: 69.0+ KB\n"
     ]
    }
   ],
   "source": [
    "df.info()"
   ]
  },
  {
   "source": [
    "# Selecting Rows and Columns"
   ],
   "cell_type": "markdown",
   "metadata": {}
  },
  {
   "cell_type": "code",
   "execution_count": 10,
   "metadata": {},
   "outputs": [
    {
     "output_type": "execute_result",
     "data": {
      "text/plain": [
       "Index(['date', 'open', 'high', 'low', 'close', 'volume', 'Name'], dtype='object')"
      ]
     },
     "metadata": {},
     "execution_count": 10
    }
   ],
   "source": [
    "df.columns"
   ]
  },
  {
   "cell_type": "code",
   "execution_count": 11,
   "metadata": {},
   "outputs": [],
   "source": [
    "df.columns = ['date', 'open', 'high', 'low', 'close', 'volume', 'name']"
   ]
  },
  {
   "cell_type": "code",
   "execution_count": 12,
   "metadata": {},
   "outputs": [
    {
     "output_type": "execute_result",
     "data": {
      "text/plain": [
       "         date    open    high     low   close   volume  name\n",
       "0  2013-02-08  27.920  28.325  27.920  28.185  7146296  SBUX\n",
       "1  2013-02-11  28.260  28.260  27.930  28.070  5457354  SBUX\n",
       "2  2013-02-12  28.000  28.275  27.975  28.130  8665592  SBUX\n",
       "3  2013-02-13  28.230  28.230  27.750  27.915  7022056  SBUX\n",
       "4  2013-02-14  27.765  27.905  27.675  27.775  8899188  SBUX"
      ],
      "text/html": "<div>\n<style scoped>\n    .dataframe tbody tr th:only-of-type {\n        vertical-align: middle;\n    }\n\n    .dataframe tbody tr th {\n        vertical-align: top;\n    }\n\n    .dataframe thead th {\n        text-align: right;\n    }\n</style>\n<table border=\"1\" class=\"dataframe\">\n  <thead>\n    <tr style=\"text-align: right;\">\n      <th></th>\n      <th>date</th>\n      <th>open</th>\n      <th>high</th>\n      <th>low</th>\n      <th>close</th>\n      <th>volume</th>\n      <th>name</th>\n    </tr>\n  </thead>\n  <tbody>\n    <tr>\n      <th>0</th>\n      <td>2013-02-08</td>\n      <td>27.920</td>\n      <td>28.325</td>\n      <td>27.920</td>\n      <td>28.185</td>\n      <td>7146296</td>\n      <td>SBUX</td>\n    </tr>\n    <tr>\n      <th>1</th>\n      <td>2013-02-11</td>\n      <td>28.260</td>\n      <td>28.260</td>\n      <td>27.930</td>\n      <td>28.070</td>\n      <td>5457354</td>\n      <td>SBUX</td>\n    </tr>\n    <tr>\n      <th>2</th>\n      <td>2013-02-12</td>\n      <td>28.000</td>\n      <td>28.275</td>\n      <td>27.975</td>\n      <td>28.130</td>\n      <td>8665592</td>\n      <td>SBUX</td>\n    </tr>\n    <tr>\n      <th>3</th>\n      <td>2013-02-13</td>\n      <td>28.230</td>\n      <td>28.230</td>\n      <td>27.750</td>\n      <td>27.915</td>\n      <td>7022056</td>\n      <td>SBUX</td>\n    </tr>\n    <tr>\n      <th>4</th>\n      <td>2013-02-14</td>\n      <td>27.765</td>\n      <td>27.905</td>\n      <td>27.675</td>\n      <td>27.775</td>\n      <td>8899188</td>\n      <td>SBUX</td>\n    </tr>\n  </tbody>\n</table>\n</div>"
     },
     "metadata": {},
     "execution_count": 12
    }
   ],
   "source": [
    "df.head()"
   ]
  },
  {
   "cell_type": "code",
   "execution_count": 13,
   "metadata": {},
   "outputs": [
    {
     "output_type": "execute_result",
     "data": {
      "text/plain": [
       "0       27.920\n",
       "1       28.260\n",
       "2       28.000\n",
       "3       28.230\n",
       "4       27.765\n",
       "         ...  \n",
       "1254    56.280\n",
       "1255    55.900\n",
       "1256    55.530\n",
       "1257    53.685\n",
       "1258    55.080\n",
       "Name: open, Length: 1259, dtype: float64"
      ]
     },
     "metadata": {},
     "execution_count": 13
    }
   ],
   "source": [
    "df['open']"
   ]
  },
  {
   "cell_type": "code",
   "execution_count": 14,
   "metadata": {},
   "outputs": [
    {
     "output_type": "execute_result",
     "data": {
      "text/plain": [
       "        open   close\n",
       "0     27.920  28.185\n",
       "1     28.260  28.070\n",
       "2     28.000  28.130\n",
       "3     28.230  27.915\n",
       "4     27.765  27.775\n",
       "...      ...     ...\n",
       "1254  56.280  56.000\n",
       "1255  55.900  55.770\n",
       "1256  55.530  54.690\n",
       "1257  53.685  55.610\n",
       "1258  55.080  54.460\n",
       "\n",
       "[1259 rows x 2 columns]"
      ],
      "text/html": "<div>\n<style scoped>\n    .dataframe tbody tr th:only-of-type {\n        vertical-align: middle;\n    }\n\n    .dataframe tbody tr th {\n        vertical-align: top;\n    }\n\n    .dataframe thead th {\n        text-align: right;\n    }\n</style>\n<table border=\"1\" class=\"dataframe\">\n  <thead>\n    <tr style=\"text-align: right;\">\n      <th></th>\n      <th>open</th>\n      <th>close</th>\n    </tr>\n  </thead>\n  <tbody>\n    <tr>\n      <th>0</th>\n      <td>27.920</td>\n      <td>28.185</td>\n    </tr>\n    <tr>\n      <th>1</th>\n      <td>28.260</td>\n      <td>28.070</td>\n    </tr>\n    <tr>\n      <th>2</th>\n      <td>28.000</td>\n      <td>28.130</td>\n    </tr>\n    <tr>\n      <th>3</th>\n      <td>28.230</td>\n      <td>27.915</td>\n    </tr>\n    <tr>\n      <th>4</th>\n      <td>27.765</td>\n      <td>27.775</td>\n    </tr>\n    <tr>\n      <th>...</th>\n      <td>...</td>\n      <td>...</td>\n    </tr>\n    <tr>\n      <th>1254</th>\n      <td>56.280</td>\n      <td>56.000</td>\n    </tr>\n    <tr>\n      <th>1255</th>\n      <td>55.900</td>\n      <td>55.770</td>\n    </tr>\n    <tr>\n      <th>1256</th>\n      <td>55.530</td>\n      <td>54.690</td>\n    </tr>\n    <tr>\n      <th>1257</th>\n      <td>53.685</td>\n      <td>55.610</td>\n    </tr>\n    <tr>\n      <th>1258</th>\n      <td>55.080</td>\n      <td>54.460</td>\n    </tr>\n  </tbody>\n</table>\n<p>1259 rows × 2 columns</p>\n</div>"
     },
     "metadata": {},
     "execution_count": 14
    }
   ],
   "source": [
    "df[['open', 'close']]"
   ]
  },
  {
   "cell_type": "code",
   "execution_count": 15,
   "metadata": {},
   "outputs": [
    {
     "output_type": "execute_result",
     "data": {
      "text/plain": [
       "pandas.core.series.Series"
      ]
     },
     "metadata": {},
     "execution_count": 15
    }
   ],
   "source": [
    "type(df['open'])"
   ]
  },
  {
   "cell_type": "code",
   "execution_count": 16,
   "metadata": {},
   "outputs": [
    {
     "output_type": "execute_result",
     "data": {
      "text/plain": [
       "pandas.core.frame.DataFrame"
      ]
     },
     "metadata": {},
     "execution_count": 16
    }
   ],
   "source": [
    "type(df[['open', 'close']])"
   ]
  },
  {
   "cell_type": "code",
   "execution_count": 17,
   "metadata": {},
   "outputs": [
    {
     "output_type": "execute_result",
     "data": {
      "text/plain": [
       "date      2013-02-08\n",
       "open          27.920\n",
       "high          28.325\n",
       "low           27.920\n",
       "close         28.185\n",
       "volume       7146296\n",
       "name            SBUX\n",
       "Name: 0, dtype: object"
      ]
     },
     "metadata": {},
     "execution_count": 17
    }
   ],
   "source": [
    "# obtain a row in the data frame\n",
    "df.iloc[0]"
   ]
  },
  {
   "cell_type": "code",
   "execution_count": 18,
   "metadata": {},
   "outputs": [
    {
     "output_type": "execute_result",
     "data": {
      "text/plain": [
       "date      2013-02-08\n",
       "open          27.920\n",
       "high          28.325\n",
       "low           27.920\n",
       "close         28.185\n",
       "volume       7146296\n",
       "name            SBUX\n",
       "Name: 0, dtype: object"
      ]
     },
     "metadata": {},
     "execution_count": 18
    }
   ],
   "source": [
    "df.loc[0]\n",
    "# The difference between iloc and loc is iloc uses only the integer and loc uses the name of the tag, it happens that our labels are integers"
   ]
  },
  {
   "cell_type": "code",
   "execution_count": 19,
   "metadata": {},
   "outputs": [],
   "source": [
    "df2 = pd.read_csv('sbux.csv', index_col='date')"
   ]
  },
  {
   "cell_type": "code",
   "execution_count": 20,
   "metadata": {},
   "outputs": [
    {
     "output_type": "execute_result",
     "data": {
      "text/plain": [
       "              open    high     low   close   volume  Name\n",
       "date                                                     \n",
       "2013-02-08  27.920  28.325  27.920  28.185  7146296  SBUX\n",
       "2013-02-11  28.260  28.260  27.930  28.070  5457354  SBUX\n",
       "2013-02-12  28.000  28.275  27.975  28.130  8665592  SBUX\n",
       "2013-02-13  28.230  28.230  27.750  27.915  7022056  SBUX\n",
       "2013-02-14  27.765  27.905  27.675  27.775  8899188  SBUX"
      ],
      "text/html": "<div>\n<style scoped>\n    .dataframe tbody tr th:only-of-type {\n        vertical-align: middle;\n    }\n\n    .dataframe tbody tr th {\n        vertical-align: top;\n    }\n\n    .dataframe thead th {\n        text-align: right;\n    }\n</style>\n<table border=\"1\" class=\"dataframe\">\n  <thead>\n    <tr style=\"text-align: right;\">\n      <th></th>\n      <th>open</th>\n      <th>high</th>\n      <th>low</th>\n      <th>close</th>\n      <th>volume</th>\n      <th>Name</th>\n    </tr>\n    <tr>\n      <th>date</th>\n      <th></th>\n      <th></th>\n      <th></th>\n      <th></th>\n      <th></th>\n      <th></th>\n    </tr>\n  </thead>\n  <tbody>\n    <tr>\n      <th>2013-02-08</th>\n      <td>27.920</td>\n      <td>28.325</td>\n      <td>27.920</td>\n      <td>28.185</td>\n      <td>7146296</td>\n      <td>SBUX</td>\n    </tr>\n    <tr>\n      <th>2013-02-11</th>\n      <td>28.260</td>\n      <td>28.260</td>\n      <td>27.930</td>\n      <td>28.070</td>\n      <td>5457354</td>\n      <td>SBUX</td>\n    </tr>\n    <tr>\n      <th>2013-02-12</th>\n      <td>28.000</td>\n      <td>28.275</td>\n      <td>27.975</td>\n      <td>28.130</td>\n      <td>8665592</td>\n      <td>SBUX</td>\n    </tr>\n    <tr>\n      <th>2013-02-13</th>\n      <td>28.230</td>\n      <td>28.230</td>\n      <td>27.750</td>\n      <td>27.915</td>\n      <td>7022056</td>\n      <td>SBUX</td>\n    </tr>\n    <tr>\n      <th>2013-02-14</th>\n      <td>27.765</td>\n      <td>27.905</td>\n      <td>27.675</td>\n      <td>27.775</td>\n      <td>8899188</td>\n      <td>SBUX</td>\n    </tr>\n  </tbody>\n</table>\n</div>"
     },
     "metadata": {},
     "execution_count": 20
    }
   ],
   "source": [
    "df2.head()"
   ]
  },
  {
   "cell_type": "code",
   "execution_count": 21,
   "metadata": {},
   "outputs": [
    {
     "output_type": "execute_result",
     "data": {
      "text/plain": [
       "open       27.920\n",
       "high       28.325\n",
       "low        27.920\n",
       "close      28.185\n",
       "volume    7146296\n",
       "Name         SBUX\n",
       "Name: 2013-02-08, dtype: object"
      ]
     },
     "metadata": {},
     "execution_count": 21
    }
   ],
   "source": [
    "df2.loc['2013-02-08']"
   ]
  },
  {
   "cell_type": "code",
   "execution_count": 22,
   "metadata": {},
   "outputs": [
    {
     "output_type": "execute_result",
     "data": {
      "text/plain": [
       "pandas.core.series.Series"
      ]
     },
     "metadata": {},
     "execution_count": 22
    }
   ],
   "source": [
    "type(df2.loc['2013-02-08'])"
   ]
  },
  {
   "cell_type": "code",
   "execution_count": 24,
   "metadata": {},
   "outputs": [
    {
     "output_type": "execute_result",
     "data": {
      "text/plain": [
       "            date   open    high    low  close   volume  name\n",
       "1087  2017-06-05  64.85  64.870  64.18  64.27  6809284  SBUX\n",
       "1088  2017-06-06  64.22  64.350  64.05  64.16  5448439  SBUX\n",
       "1089  2017-06-07  64.13  64.295  63.34  63.50  8364994  SBUX"
      ],
      "text/html": "<div>\n<style scoped>\n    .dataframe tbody tr th:only-of-type {\n        vertical-align: middle;\n    }\n\n    .dataframe tbody tr th {\n        vertical-align: top;\n    }\n\n    .dataframe thead th {\n        text-align: right;\n    }\n</style>\n<table border=\"1\" class=\"dataframe\">\n  <thead>\n    <tr style=\"text-align: right;\">\n      <th></th>\n      <th>date</th>\n      <th>open</th>\n      <th>high</th>\n      <th>low</th>\n      <th>close</th>\n      <th>volume</th>\n      <th>name</th>\n    </tr>\n  </thead>\n  <tbody>\n    <tr>\n      <th>1087</th>\n      <td>2017-06-05</td>\n      <td>64.85</td>\n      <td>64.870</td>\n      <td>64.18</td>\n      <td>64.27</td>\n      <td>6809284</td>\n      <td>SBUX</td>\n    </tr>\n    <tr>\n      <th>1088</th>\n      <td>2017-06-06</td>\n      <td>64.22</td>\n      <td>64.350</td>\n      <td>64.05</td>\n      <td>64.16</td>\n      <td>5448439</td>\n      <td>SBUX</td>\n    </tr>\n    <tr>\n      <th>1089</th>\n      <td>2017-06-07</td>\n      <td>64.13</td>\n      <td>64.295</td>\n      <td>63.34</td>\n      <td>63.50</td>\n      <td>8364994</td>\n      <td>SBUX</td>\n    </tr>\n  </tbody>\n</table>\n</div>"
     },
     "metadata": {},
     "execution_count": 24
    }
   ],
   "source": [
    "# Select conditionally a number of rows\n",
    "df[ df['open'] > 64 ]"
   ]
  },
  {
   "cell_type": "code",
   "execution_count": 25,
   "metadata": {},
   "outputs": [
    {
     "output_type": "execute_result",
     "data": {
      "text/plain": [
       "Empty DataFrame\n",
       "Columns: [date, open, high, low, close, volume, name]\n",
       "Index: []"
      ],
      "text/html": "<div>\n<style scoped>\n    .dataframe tbody tr th:only-of-type {\n        vertical-align: middle;\n    }\n\n    .dataframe tbody tr th {\n        vertical-align: top;\n    }\n\n    .dataframe thead th {\n        text-align: right;\n    }\n</style>\n<table border=\"1\" class=\"dataframe\">\n  <thead>\n    <tr style=\"text-align: right;\">\n      <th></th>\n      <th>date</th>\n      <th>open</th>\n      <th>high</th>\n      <th>low</th>\n      <th>close</th>\n      <th>volume</th>\n      <th>name</th>\n    </tr>\n  </thead>\n  <tbody>\n  </tbody>\n</table>\n</div>"
     },
     "metadata": {},
     "execution_count": 25
    }
   ],
   "source": [
    "df[ df['name'] != 'SBUX' ]"
   ]
  },
  {
   "cell_type": "code",
   "execution_count": 26,
   "metadata": {},
   "outputs": [
    {
     "output_type": "execute_result",
     "data": {
      "text/plain": [
       "0       False\n",
       "1       False\n",
       "2       False\n",
       "3       False\n",
       "4       False\n",
       "        ...  \n",
       "1254    False\n",
       "1255    False\n",
       "1256    False\n",
       "1257    False\n",
       "1258    False\n",
       "Name: name, Length: 1259, dtype: bool"
      ]
     },
     "metadata": {},
     "execution_count": 26
    }
   ],
   "source": [
    "df['name'] != 'SBUX'"
   ]
  },
  {
   "cell_type": "code",
   "execution_count": 27,
   "metadata": {},
   "outputs": [
    {
     "output_type": "execute_result",
     "data": {
      "text/plain": [
       "pandas.core.series.Series"
      ]
     },
     "metadata": {},
     "execution_count": 27
    }
   ],
   "source": [
    "type(df['name'] != 'SBUX')"
   ]
  },
  {
   "cell_type": "code",
   "execution_count": 29,
   "metadata": {},
   "outputs": [
    {
     "output_type": "execute_result",
     "data": {
      "text/plain": [
       "array([0, 1, 2, 3, 4, 5, 6, 7, 8, 9])"
      ]
     },
     "metadata": {},
     "execution_count": 29
    }
   ],
   "source": [
    "import numpy as np\n",
    "A = np.arange(10)\n",
    "A"
   ]
  },
  {
   "cell_type": "code",
   "execution_count": 30,
   "metadata": {},
   "outputs": [
    {
     "output_type": "execute_result",
     "data": {
      "text/plain": [
       "array([0, 2, 4, 6, 8])"
      ]
     },
     "metadata": {},
     "execution_count": 30
    }
   ],
   "source": [
    "A[ A % 2 == 0 ]"
   ]
  },
  {
   "cell_type": "code",
   "execution_count": 31,
   "metadata": {},
   "outputs": [
    {
     "output_type": "execute_result",
     "data": {
      "text/plain": [
       "array([ True, False,  True, False,  True, False,  True, False,  True,\n",
       "       False])"
      ]
     },
     "metadata": {},
     "execution_count": 31
    }
   ],
   "source": [
    "A % 2 == 0"
   ]
  },
  {
   "cell_type": "code",
   "execution_count": 32,
   "metadata": {},
   "outputs": [
    {
     "output_type": "execute_result",
     "data": {
      "text/plain": [
       "array([['2013-02-08', 27.92, 28.325, ..., 28.185, 7146296, 'SBUX'],\n",
       "       ['2013-02-11', 28.26, 28.26, ..., 28.07, 5457354, 'SBUX'],\n",
       "       ['2013-02-12', 28.0, 28.275, ..., 28.13, 8665592, 'SBUX'],\n",
       "       ...,\n",
       "       ['2018-02-05', 55.53, 56.26, ..., 54.69, 16059955, 'SBUX'],\n",
       "       ['2018-02-06', 53.685, 56.06, ..., 55.61, 17415065, 'SBUX'],\n",
       "       ['2018-02-07', 55.08, 55.43, ..., 54.46, 13927022, 'SBUX']],\n",
       "      dtype=object)"
      ]
     },
     "metadata": {},
     "execution_count": 32
    }
   ],
   "source": [
    "df.values"
   ]
  },
  {
   "cell_type": "code",
   "execution_count": 33,
   "metadata": {},
   "outputs": [],
   "source": [
    "A = df[['open', 'close']].values"
   ]
  },
  {
   "cell_type": "code",
   "execution_count": 34,
   "metadata": {},
   "outputs": [
    {
     "output_type": "execute_result",
     "data": {
      "text/plain": [
       "array([[27.92 , 28.185],\n",
       "       [28.26 , 28.07 ],\n",
       "       [28.   , 28.13 ],\n",
       "       ...,\n",
       "       [55.53 , 54.69 ],\n",
       "       [53.685, 55.61 ],\n",
       "       [55.08 , 54.46 ]])"
      ]
     },
     "metadata": {},
     "execution_count": 34
    }
   ],
   "source": [
    "A"
   ]
  },
  {
   "cell_type": "code",
   "execution_count": 35,
   "metadata": {},
   "outputs": [
    {
     "output_type": "execute_result",
     "data": {
      "text/plain": [
       "numpy.ndarray"
      ]
     },
     "metadata": {},
     "execution_count": 35
    }
   ],
   "source": [
    "type(A)"
   ]
  },
  {
   "cell_type": "code",
   "execution_count": 36,
   "metadata": {},
   "outputs": [],
   "source": [
    "smalldf = df[['open', 'close']]\n",
    "smalldf.to_csv('output.csv')"
   ]
  },
  {
   "cell_type": "code",
   "execution_count": 37,
   "metadata": {},
   "outputs": [
    {
     "output_type": "stream",
     "name": "stdout",
     "text": [
      ",open,close\n0,27.92,28.185\n1,28.26,28.07\n2,28.0,28.13\n3,28.23,27.915\n4,27.765,27.775\n5,27.805,27.17\n6,27.18,27.225\n7,27.3,26.655\n8,26.535,26.675\n"
     ]
    }
   ],
   "source": [
    "!head output.csv"
   ]
  },
  {
   "cell_type": "code",
   "execution_count": 39,
   "metadata": {},
   "outputs": [],
   "source": [
    "smalldf.to_csv('output.csv', index=False)"
   ]
  },
  {
   "cell_type": "code",
   "execution_count": 40,
   "metadata": {},
   "outputs": [
    {
     "output_type": "stream",
     "name": "stdout",
     "text": [
      "open,close\n27.92,28.185\n28.26,28.07\n28.0,28.13\n28.23,27.915\n27.765,27.775\n27.805,27.17\n27.18,27.225\n27.3,26.655\n26.535,26.675\n"
     ]
    }
   ],
   "source": [
    "!head output.csv"
   ]
  },
  {
   "source": [
    "# The apply() function"
   ],
   "cell_type": "markdown",
   "metadata": {}
  },
  {
   "cell_type": "code",
   "execution_count": 41,
   "metadata": {},
   "outputs": [
    {
     "output_type": "execute_result",
     "data": {
      "text/plain": [
       "0       2013\n",
       "1       2013\n",
       "2       2013\n",
       "3       2013\n",
       "4       2013\n",
       "        ... \n",
       "1254    2018\n",
       "1255    2018\n",
       "1256    2018\n",
       "1257    2018\n",
       "1258    2018\n",
       "Length: 1259, dtype: int64"
      ]
     },
     "metadata": {},
     "execution_count": 41
    }
   ],
   "source": [
    "def date_to_year(row):\n",
    "    return int(row['date'].split('-')[0])\n",
    "\n",
    "# axis=1 is necesary to run row wise\n",
    "df.apply(date_to_year, axis=1)"
   ]
  },
  {
   "cell_type": "code",
   "execution_count": 42,
   "metadata": {},
   "outputs": [],
   "source": [
    "df['year'] = df.apply(date_to_year, axis=1)"
   ]
  },
  {
   "cell_type": "code",
   "execution_count": 43,
   "metadata": {},
   "outputs": [
    {
     "output_type": "execute_result",
     "data": {
      "text/plain": [
       "         date    open    high     low   close   volume  name  year\n",
       "0  2013-02-08  27.920  28.325  27.920  28.185  7146296  SBUX  2013\n",
       "1  2013-02-11  28.260  28.260  27.930  28.070  5457354  SBUX  2013\n",
       "2  2013-02-12  28.000  28.275  27.975  28.130  8665592  SBUX  2013\n",
       "3  2013-02-13  28.230  28.230  27.750  27.915  7022056  SBUX  2013\n",
       "4  2013-02-14  27.765  27.905  27.675  27.775  8899188  SBUX  2013"
      ],
      "text/html": "<div>\n<style scoped>\n    .dataframe tbody tr th:only-of-type {\n        vertical-align: middle;\n    }\n\n    .dataframe tbody tr th {\n        vertical-align: top;\n    }\n\n    .dataframe thead th {\n        text-align: right;\n    }\n</style>\n<table border=\"1\" class=\"dataframe\">\n  <thead>\n    <tr style=\"text-align: right;\">\n      <th></th>\n      <th>date</th>\n      <th>open</th>\n      <th>high</th>\n      <th>low</th>\n      <th>close</th>\n      <th>volume</th>\n      <th>name</th>\n      <th>year</th>\n    </tr>\n  </thead>\n  <tbody>\n    <tr>\n      <th>0</th>\n      <td>2013-02-08</td>\n      <td>27.920</td>\n      <td>28.325</td>\n      <td>27.920</td>\n      <td>28.185</td>\n      <td>7146296</td>\n      <td>SBUX</td>\n      <td>2013</td>\n    </tr>\n    <tr>\n      <th>1</th>\n      <td>2013-02-11</td>\n      <td>28.260</td>\n      <td>28.260</td>\n      <td>27.930</td>\n      <td>28.070</td>\n      <td>5457354</td>\n      <td>SBUX</td>\n      <td>2013</td>\n    </tr>\n    <tr>\n      <th>2</th>\n      <td>2013-02-12</td>\n      <td>28.000</td>\n      <td>28.275</td>\n      <td>27.975</td>\n      <td>28.130</td>\n      <td>8665592</td>\n      <td>SBUX</td>\n      <td>2013</td>\n    </tr>\n    <tr>\n      <th>3</th>\n      <td>2013-02-13</td>\n      <td>28.230</td>\n      <td>28.230</td>\n      <td>27.750</td>\n      <td>27.915</td>\n      <td>7022056</td>\n      <td>SBUX</td>\n      <td>2013</td>\n    </tr>\n    <tr>\n      <th>4</th>\n      <td>2013-02-14</td>\n      <td>27.765</td>\n      <td>27.905</td>\n      <td>27.675</td>\n      <td>27.775</td>\n      <td>8899188</td>\n      <td>SBUX</td>\n      <td>2013</td>\n    </tr>\n  </tbody>\n</table>\n</div>"
     },
     "metadata": {},
     "execution_count": 43
    }
   ],
   "source": [
    "df.head()"
   ]
  },
  {
   "cell_type": "code",
   "execution_count": null,
   "metadata": {},
   "outputs": [],
   "source": []
  }
 ]
}