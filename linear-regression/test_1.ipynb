{
 "metadata": {
  "language_info": {
   "codemirror_mode": {
    "name": "ipython",
    "version": 3
   },
   "file_extension": ".py",
   "mimetype": "text/x-python",
   "name": "python",
   "nbconvert_exporter": "python",
   "pygments_lexer": "ipython3",
   "version": "3.9.0-final"
  },
  "orig_nbformat": 2,
  "kernelspec": {
   "name": "python39064bitenv7cf198b9fa28480f84a2a7f4d5077720",
   "display_name": "Python 3.9.0 64-bit ('env')",
   "language": "python"
  }
 },
 "nbformat": 4,
 "nbformat_minor": 2,
 "cells": [
  {
   "cell_type": "code",
   "execution_count": 1,
   "metadata": {},
   "outputs": [],
   "source": [
    "import pandas as pd"
   ]
  },
  {
   "cell_type": "code",
   "execution_count": 2,
   "metadata": {},
   "outputs": [],
   "source": [
    "dataFrame = pd.read_csv('atus_00_valor.csv')"
   ]
  },
  {
   "cell_type": "code",
   "execution_count": 4,
   "metadata": {},
   "outputs": [
    {
     "output_type": "execute_result",
     "data": {
      "text/plain": [
       "pandas.core.frame.DataFrame"
      ]
     },
     "metadata": {},
     "execution_count": 4
    }
   ],
   "source": [
    "type( dataFrame )"
   ]
  },
  {
   "cell_type": "code",
   "execution_count": 6,
   "metadata": {},
   "outputs": [
    {
     "output_type": "stream",
     "name": "stdout",
     "text": [
      "\n\n\n\n\n\n\n\n\n\n"
     ]
    }
   ],
   "source": [
    "!head atus_00_valor.csv"
   ]
  },
  {
   "cell_type": "code",
   "execution_count": 7,
   "metadata": {},
   "outputs": [
    {
     "output_type": "execute_result",
     "data": {
      "text/plain": [
       "   cve_entidad              desc_entidad  cve_municipio  \\\n",
       "0            0  Estados Unidos Mexicanos              0   \n",
       "1            0  Estados Unidos Mexicanos              0   \n",
       "2            0  Estados Unidos Mexicanos              0   \n",
       "3            0  Estados Unidos Mexicanos              0   \n",
       "4            0  Estados Unidos Mexicanos              0   \n",
       "\n",
       "             desc_municipio  id_indicador  \\\n",
       "0  Estados Unidos Mexicanos    1006000039   \n",
       "1  Estados Unidos Mexicanos    1006000039   \n",
       "2  Estados Unidos Mexicanos    1006000039   \n",
       "3  Estados Unidos Mexicanos    1006000039   \n",
       "4  Estados Unidos Mexicanos    1006000039   \n",
       "\n",
       "                                           indicador   año   valor  \\\n",
       "0  Accidentes de tránsito terrestre en zonas urba...  1997  248114   \n",
       "1  Accidentes de tránsito terrestre en zonas urba...  1998  262687   \n",
       "2  Accidentes de tránsito terrestre en zonas urba...  1999  285494   \n",
       "3  Accidentes de tránsito terrestre en zonas urba...  2000  311938   \n",
       "4  Accidentes de tránsito terrestre en zonas urba...  2001  364869   \n",
       "\n",
       "   unidad_medida  \n",
       "0            NaN  \n",
       "1            NaN  \n",
       "2            NaN  \n",
       "3            NaN  \n",
       "4            NaN  "
      ],
      "text/html": "<div>\n<style scoped>\n    .dataframe tbody tr th:only-of-type {\n        vertical-align: middle;\n    }\n\n    .dataframe tbody tr th {\n        vertical-align: top;\n    }\n\n    .dataframe thead th {\n        text-align: right;\n    }\n</style>\n<table border=\"1\" class=\"dataframe\">\n  <thead>\n    <tr style=\"text-align: right;\">\n      <th></th>\n      <th>cve_entidad</th>\n      <th>desc_entidad</th>\n      <th>cve_municipio</th>\n      <th>desc_municipio</th>\n      <th>id_indicador</th>\n      <th>indicador</th>\n      <th>año</th>\n      <th>valor</th>\n      <th>unidad_medida</th>\n    </tr>\n  </thead>\n  <tbody>\n    <tr>\n      <th>0</th>\n      <td>0</td>\n      <td>Estados Unidos Mexicanos</td>\n      <td>0</td>\n      <td>Estados Unidos Mexicanos</td>\n      <td>1006000039</td>\n      <td>Accidentes de tránsito terrestre en zonas urba...</td>\n      <td>1997</td>\n      <td>248114</td>\n      <td>NaN</td>\n    </tr>\n    <tr>\n      <th>1</th>\n      <td>0</td>\n      <td>Estados Unidos Mexicanos</td>\n      <td>0</td>\n      <td>Estados Unidos Mexicanos</td>\n      <td>1006000039</td>\n      <td>Accidentes de tránsito terrestre en zonas urba...</td>\n      <td>1998</td>\n      <td>262687</td>\n      <td>NaN</td>\n    </tr>\n    <tr>\n      <th>2</th>\n      <td>0</td>\n      <td>Estados Unidos Mexicanos</td>\n      <td>0</td>\n      <td>Estados Unidos Mexicanos</td>\n      <td>1006000039</td>\n      <td>Accidentes de tránsito terrestre en zonas urba...</td>\n      <td>1999</td>\n      <td>285494</td>\n      <td>NaN</td>\n    </tr>\n    <tr>\n      <th>3</th>\n      <td>0</td>\n      <td>Estados Unidos Mexicanos</td>\n      <td>0</td>\n      <td>Estados Unidos Mexicanos</td>\n      <td>1006000039</td>\n      <td>Accidentes de tránsito terrestre en zonas urba...</td>\n      <td>2000</td>\n      <td>311938</td>\n      <td>NaN</td>\n    </tr>\n    <tr>\n      <th>4</th>\n      <td>0</td>\n      <td>Estados Unidos Mexicanos</td>\n      <td>0</td>\n      <td>Estados Unidos Mexicanos</td>\n      <td>1006000039</td>\n      <td>Accidentes de tránsito terrestre en zonas urba...</td>\n      <td>2001</td>\n      <td>364869</td>\n      <td>NaN</td>\n    </tr>\n  </tbody>\n</table>\n</div>"
     },
     "metadata": {},
     "execution_count": 7
    }
   ],
   "source": [
    "dataFrame.head()"
   ]
  },
  {
   "cell_type": "code",
   "execution_count": 9,
   "metadata": {},
   "outputs": [
    {
     "output_type": "execute_result",
     "data": {
      "text/plain": [
       "Index(['cve_entidad', 'desc_entidad', 'cve_municipio', 'desc_municipio',\n",
       "       'id_indicador', 'indicador', 'año', 'valor', 'unidad_medida'],\n",
       "      dtype='object')"
      ]
     },
     "metadata": {},
     "execution_count": 9
    }
   ],
   "source": [
    "# Seleccionar filas y columnas\n",
    "dataFrame.columns"
   ]
  },
  {
   "cell_type": "code",
   "execution_count": 10,
   "metadata": {},
   "outputs": [
    {
     "output_type": "execute_result",
     "data": {
      "text/plain": [
       "0          0\n",
       "1          0\n",
       "2          0\n",
       "3          0\n",
       "4          0\n",
       "          ..\n",
       "116588    32\n",
       "116589    32\n",
       "116590    32\n",
       "116591    32\n",
       "116592    32\n",
       "Name: cve_entidad, Length: 116593, dtype: int64"
      ]
     },
     "metadata": {},
     "execution_count": 10
    }
   ],
   "source": [
    "dataFrame['cve_entidad']"
   ]
  },
  {
   "cell_type": "code",
   "execution_count": 12,
   "metadata": {},
   "outputs": [
    {
     "output_type": "execute_result",
     "data": {
      "text/plain": [
       "        cve_entidad  cve_municipio   año   valor\n",
       "0                 0              0  1997  248114\n",
       "1                 0              0  1998  262687\n",
       "2                 0              0  1999  285494\n",
       "3                 0              0  2000  311938\n",
       "4                 0              0  2001  364869\n",
       "...             ...            ...   ...     ...\n",
       "116588           32             57  2008       0\n",
       "116589           32             57  2002       2\n",
       "116590           32             57  2003       7\n",
       "116591           32             57  2008       0\n",
       "116592           32             57  2015       6\n",
       "\n",
       "[116593 rows x 4 columns]"
      ],
      "text/html": "<div>\n<style scoped>\n    .dataframe tbody tr th:only-of-type {\n        vertical-align: middle;\n    }\n\n    .dataframe tbody tr th {\n        vertical-align: top;\n    }\n\n    .dataframe thead th {\n        text-align: right;\n    }\n</style>\n<table border=\"1\" class=\"dataframe\">\n  <thead>\n    <tr style=\"text-align: right;\">\n      <th></th>\n      <th>cve_entidad</th>\n      <th>cve_municipio</th>\n      <th>año</th>\n      <th>valor</th>\n    </tr>\n  </thead>\n  <tbody>\n    <tr>\n      <th>0</th>\n      <td>0</td>\n      <td>0</td>\n      <td>1997</td>\n      <td>248114</td>\n    </tr>\n    <tr>\n      <th>1</th>\n      <td>0</td>\n      <td>0</td>\n      <td>1998</td>\n      <td>262687</td>\n    </tr>\n    <tr>\n      <th>2</th>\n      <td>0</td>\n      <td>0</td>\n      <td>1999</td>\n      <td>285494</td>\n    </tr>\n    <tr>\n      <th>3</th>\n      <td>0</td>\n      <td>0</td>\n      <td>2000</td>\n      <td>311938</td>\n    </tr>\n    <tr>\n      <th>4</th>\n      <td>0</td>\n      <td>0</td>\n      <td>2001</td>\n      <td>364869</td>\n    </tr>\n    <tr>\n      <th>...</th>\n      <td>...</td>\n      <td>...</td>\n      <td>...</td>\n      <td>...</td>\n    </tr>\n    <tr>\n      <th>116588</th>\n      <td>32</td>\n      <td>57</td>\n      <td>2008</td>\n      <td>0</td>\n    </tr>\n    <tr>\n      <th>116589</th>\n      <td>32</td>\n      <td>57</td>\n      <td>2002</td>\n      <td>2</td>\n    </tr>\n    <tr>\n      <th>116590</th>\n      <td>32</td>\n      <td>57</td>\n      <td>2003</td>\n      <td>7</td>\n    </tr>\n    <tr>\n      <th>116591</th>\n      <td>32</td>\n      <td>57</td>\n      <td>2008</td>\n      <td>0</td>\n    </tr>\n    <tr>\n      <th>116592</th>\n      <td>32</td>\n      <td>57</td>\n      <td>2015</td>\n      <td>6</td>\n    </tr>\n  </tbody>\n</table>\n<p>116593 rows × 4 columns</p>\n</div>"
     },
     "metadata": {},
     "execution_count": 12
    }
   ],
   "source": [
    "dataFrame[['cve_entidad', 'cve_municipio', 'año', 'valor']]"
   ]
  },
  {
   "cell_type": "code",
   "execution_count": 15,
   "metadata": {},
   "outputs": [
    {
     "output_type": "execute_result",
     "data": {
      "text/plain": [
       "       cve_entidad desc_entidad  cve_municipio desc_municipio  id_indicador  \\\n",
       "92929           28   Tamaulipas              0        Estatal    1006000039   \n",
       "92930           28   Tamaulipas              0        Estatal    1006000039   \n",
       "92931           28   Tamaulipas              0        Estatal    1006000039   \n",
       "92932           28   Tamaulipas              0        Estatal    1006000039   \n",
       "92933           28   Tamaulipas              0        Estatal    1006000039   \n",
       "\n",
       "                                               indicador   año  valor  \\\n",
       "92929  Accidentes de tránsito terrestre en zonas urba...  1997  10150   \n",
       "92930  Accidentes de tránsito terrestre en zonas urba...  1998  11042   \n",
       "92931  Accidentes de tránsito terrestre en zonas urba...  1999  13353   \n",
       "92932  Accidentes de tránsito terrestre en zonas urba...  2000  15807   \n",
       "92933  Accidentes de tránsito terrestre en zonas urba...  2001  18108   \n",
       "\n",
       "       unidad_medida  \n",
       "92929            NaN  \n",
       "92930            NaN  \n",
       "92931            NaN  \n",
       "92932            NaN  \n",
       "92933            NaN  "
      ],
      "text/html": "<div>\n<style scoped>\n    .dataframe tbody tr th:only-of-type {\n        vertical-align: middle;\n    }\n\n    .dataframe tbody tr th {\n        vertical-align: top;\n    }\n\n    .dataframe thead th {\n        text-align: right;\n    }\n</style>\n<table border=\"1\" class=\"dataframe\">\n  <thead>\n    <tr style=\"text-align: right;\">\n      <th></th>\n      <th>cve_entidad</th>\n      <th>desc_entidad</th>\n      <th>cve_municipio</th>\n      <th>desc_municipio</th>\n      <th>id_indicador</th>\n      <th>indicador</th>\n      <th>año</th>\n      <th>valor</th>\n      <th>unidad_medida</th>\n    </tr>\n  </thead>\n  <tbody>\n    <tr>\n      <th>92929</th>\n      <td>28</td>\n      <td>Tamaulipas</td>\n      <td>0</td>\n      <td>Estatal</td>\n      <td>1006000039</td>\n      <td>Accidentes de tránsito terrestre en zonas urba...</td>\n      <td>1997</td>\n      <td>10150</td>\n      <td>NaN</td>\n    </tr>\n    <tr>\n      <th>92930</th>\n      <td>28</td>\n      <td>Tamaulipas</td>\n      <td>0</td>\n      <td>Estatal</td>\n      <td>1006000039</td>\n      <td>Accidentes de tránsito terrestre en zonas urba...</td>\n      <td>1998</td>\n      <td>11042</td>\n      <td>NaN</td>\n    </tr>\n    <tr>\n      <th>92931</th>\n      <td>28</td>\n      <td>Tamaulipas</td>\n      <td>0</td>\n      <td>Estatal</td>\n      <td>1006000039</td>\n      <td>Accidentes de tránsito terrestre en zonas urba...</td>\n      <td>1999</td>\n      <td>13353</td>\n      <td>NaN</td>\n    </tr>\n    <tr>\n      <th>92932</th>\n      <td>28</td>\n      <td>Tamaulipas</td>\n      <td>0</td>\n      <td>Estatal</td>\n      <td>1006000039</td>\n      <td>Accidentes de tránsito terrestre en zonas urba...</td>\n      <td>2000</td>\n      <td>15807</td>\n      <td>NaN</td>\n    </tr>\n    <tr>\n      <th>92933</th>\n      <td>28</td>\n      <td>Tamaulipas</td>\n      <td>0</td>\n      <td>Estatal</td>\n      <td>1006000039</td>\n      <td>Accidentes de tránsito terrestre en zonas urba...</td>\n      <td>2001</td>\n      <td>18108</td>\n      <td>NaN</td>\n    </tr>\n  </tbody>\n</table>\n</div>"
     },
     "metadata": {},
     "execution_count": 15
    }
   ],
   "source": [
    "data_Tamaulipas = dataFrame[dataFrame['cve_entidad'] == 28]\n",
    "data_Tamaulipas.head()"
   ]
  },
  {
   "cell_type": "code",
   "execution_count": 61,
   "metadata": {},
   "outputs": [
    {
     "output_type": "execute_result",
     "data": {
      "text/plain": [
       "       cve_entidad desc_entidad  cve_municipio desc_municipio  id_indicador  \\\n",
       "94174           28   Tamaulipas             22      Matamoros    1006000039   \n",
       "94175           28   Tamaulipas             22      Matamoros    1006000039   \n",
       "94176           28   Tamaulipas             22      Matamoros    1006000039   \n",
       "94177           28   Tamaulipas             22      Matamoros    1006000039   \n",
       "94178           28   Tamaulipas             22      Matamoros    1006000039   \n",
       "\n",
       "                                               indicador   año  valor  \\\n",
       "94174  Accidentes de tránsito terrestre en zonas urba...  1997    431   \n",
       "94175  Accidentes de tránsito terrestre en zonas urba...  1998    677   \n",
       "94176  Accidentes de tránsito terrestre en zonas urba...  1999   1362   \n",
       "94177  Accidentes de tránsito terrestre en zonas urba...  2000   1310   \n",
       "94178  Accidentes de tránsito terrestre en zonas urba...  2001   2381   \n",
       "\n",
       "       unidad_medida  \n",
       "94174            NaN  \n",
       "94175            NaN  \n",
       "94176            NaN  \n",
       "94177            NaN  \n",
       "94178            NaN  "
      ],
      "text/html": "<div>\n<style scoped>\n    .dataframe tbody tr th:only-of-type {\n        vertical-align: middle;\n    }\n\n    .dataframe tbody tr th {\n        vertical-align: top;\n    }\n\n    .dataframe thead th {\n        text-align: right;\n    }\n</style>\n<table border=\"1\" class=\"dataframe\">\n  <thead>\n    <tr style=\"text-align: right;\">\n      <th></th>\n      <th>cve_entidad</th>\n      <th>desc_entidad</th>\n      <th>cve_municipio</th>\n      <th>desc_municipio</th>\n      <th>id_indicador</th>\n      <th>indicador</th>\n      <th>año</th>\n      <th>valor</th>\n      <th>unidad_medida</th>\n    </tr>\n  </thead>\n  <tbody>\n    <tr>\n      <th>94174</th>\n      <td>28</td>\n      <td>Tamaulipas</td>\n      <td>22</td>\n      <td>Matamoros</td>\n      <td>1006000039</td>\n      <td>Accidentes de tránsito terrestre en zonas urba...</td>\n      <td>1997</td>\n      <td>431</td>\n      <td>NaN</td>\n    </tr>\n    <tr>\n      <th>94175</th>\n      <td>28</td>\n      <td>Tamaulipas</td>\n      <td>22</td>\n      <td>Matamoros</td>\n      <td>1006000039</td>\n      <td>Accidentes de tránsito terrestre en zonas urba...</td>\n      <td>1998</td>\n      <td>677</td>\n      <td>NaN</td>\n    </tr>\n    <tr>\n      <th>94176</th>\n      <td>28</td>\n      <td>Tamaulipas</td>\n      <td>22</td>\n      <td>Matamoros</td>\n      <td>1006000039</td>\n      <td>Accidentes de tránsito terrestre en zonas urba...</td>\n      <td>1999</td>\n      <td>1362</td>\n      <td>NaN</td>\n    </tr>\n    <tr>\n      <th>94177</th>\n      <td>28</td>\n      <td>Tamaulipas</td>\n      <td>22</td>\n      <td>Matamoros</td>\n      <td>1006000039</td>\n      <td>Accidentes de tránsito terrestre en zonas urba...</td>\n      <td>2000</td>\n      <td>1310</td>\n      <td>NaN</td>\n    </tr>\n    <tr>\n      <th>94178</th>\n      <td>28</td>\n      <td>Tamaulipas</td>\n      <td>22</td>\n      <td>Matamoros</td>\n      <td>1006000039</td>\n      <td>Accidentes de tránsito terrestre en zonas urba...</td>\n      <td>2001</td>\n      <td>2381</td>\n      <td>NaN</td>\n    </tr>\n  </tbody>\n</table>\n</div>"
     },
     "metadata": {},
     "execution_count": 61
    }
   ],
   "source": [
    "data_Matamoros = data_Tamaulipas[(data_Tamaulipas['cve_municipio'] == 22) & (data_Tamaulipas['id_indicador'] == 1006000039)]\n",
    "data_Matamoros.head()"
   ]
  },
  {
   "cell_type": "code",
   "execution_count": 62,
   "metadata": {},
   "outputs": [],
   "source": [
    "data_matamoros_anios = data_Matamoros['año']\n",
    "data_matamoros_valor = data_Matamoros['valor']"
   ]
  },
  {
   "cell_type": "code",
   "execution_count": 68,
   "metadata": {},
   "outputs": [
    {
     "output_type": "execute_result",
     "data": {
      "text/plain": [
       "94174    1997\n",
       "94175    1998\n",
       "94176    1999\n",
       "94177    2000\n",
       "94178    2001\n",
       "94179    2002\n",
       "94180    2003\n",
       "94181    2004\n",
       "94182    2005\n",
       "94183    2006\n",
       "Name: año, dtype: int64"
      ]
     },
     "metadata": {},
     "execution_count": 68
    }
   ],
   "source": [
    "data_matamoros_anios.head(10)\n"
   ]
  },
  {
   "cell_type": "code",
   "execution_count": 64,
   "metadata": {},
   "outputs": [
    {
     "output_type": "execute_result",
     "data": {
      "text/plain": [
       "94174     431\n",
       "94175     677\n",
       "94176    1362\n",
       "94177    1310\n",
       "94178    2381\n",
       "Name: valor, dtype: int64"
      ]
     },
     "metadata": {},
     "execution_count": 64
    }
   ],
   "source": [
    "data_matamoros_valor.head()"
   ]
  },
  {
   "cell_type": "code",
   "execution_count": 65,
   "metadata": {},
   "outputs": [
    {
     "output_type": "execute_result",
     "data": {
      "text/plain": [
       "pandas.core.series.Series"
      ]
     },
     "metadata": {},
     "execution_count": 65
    }
   ],
   "source": [
    "type(data_matamoros_valor)"
   ]
  },
  {
   "cell_type": "code",
   "execution_count": 57,
   "metadata": {},
   "outputs": [],
   "source": [
    "import numpy as np"
   ]
  },
  {
   "cell_type": "code",
   "execution_count": 66,
   "metadata": {},
   "outputs": [],
   "source": [
    "array_datos_valor = np.array([data_matamoros_valor])\n",
    "array_datos_anios = np.array([data_matamoros_anios])"
   ]
  },
  {
   "cell_type": "code",
   "execution_count": 59,
   "metadata": {},
   "outputs": [],
   "source": [
    "import matplotlib.pyplot as plt"
   ]
  },
  {
   "cell_type": "code",
   "execution_count": 69,
   "metadata": {},
   "outputs": [
    {
     "output_type": "execute_result",
     "data": {
      "text/plain": [
       "<matplotlib.collections.PathCollection at 0x7f657915b6d0>"
      ]
     },
     "metadata": {},
     "execution_count": 69
    },
    {
     "output_type": "display_data",
     "data": {
      "text/plain": "<Figure size 432x288 with 1 Axes>",
      "image/svg+xml": "<?xml version=\"1.0\" encoding=\"utf-8\" standalone=\"no\"?>\n<!DOCTYPE svg PUBLIC \"-//W3C//DTD SVG 1.1//EN\"\n  \"http://www.w3.org/Graphics/SVG/1.1/DTD/svg11.dtd\">\n<!-- Created with matplotlib (https://matplotlib.org/) -->\n<svg height=\"248.518125pt\" version=\"1.1\" viewBox=\"0 0 392.991529 248.518125\" width=\"392.991529pt\" xmlns=\"http://www.w3.org/2000/svg\" xmlns:xlink=\"http://www.w3.org/1999/xlink\">\n <metadata>\n  <rdf:RDF xmlns:cc=\"http://creativecommons.org/ns#\" xmlns:dc=\"http://purl.org/dc/elements/1.1/\" xmlns:rdf=\"http://www.w3.org/1999/02/22-rdf-syntax-ns#\">\n   <cc:Work>\n    <dc:type rdf:resource=\"http://purl.org/dc/dcmitype/StillImage\"/>\n    <dc:date>2021-01-13T18:01:01.108725</dc:date>\n    <dc:format>image/svg+xml</dc:format>\n    <dc:creator>\n     <cc:Agent>\n      <dc:title>Matplotlib v3.3.3, https://matplotlib.org/</dc:title>\n     </cc:Agent>\n    </dc:creator>\n   </cc:Work>\n  </rdf:RDF>\n </metadata>\n <defs>\n  <style type=\"text/css\">*{stroke-linecap:butt;stroke-linejoin:round;}</style>\n </defs>\n <g id=\"figure_1\">\n  <g id=\"patch_1\">\n   <path d=\"M -0 248.518125 \nL 392.991529 248.518125 \nL 392.991529 0 \nL -0 0 \nz\n\" style=\"fill:none;\"/>\n  </g>\n  <g id=\"axes_1\">\n   <g id=\"patch_2\">\n    <path d=\"M 39.65 224.64 \nL 374.45 224.64 \nL 374.45 7.2 \nL 39.65 7.2 \nz\n\" style=\"fill:#ffffff;\"/>\n   </g>\n   <g id=\"PathCollection_1\">\n    <defs>\n     <path d=\"M 0 3 \nC 0.795609 3 1.55874 2.683901 2.12132 2.12132 \nC 2.683901 1.55874 3 0.795609 3 0 \nC 3 -0.795609 2.683901 -1.55874 2.12132 -2.12132 \nC 1.55874 -2.683901 0.795609 -3 0 -3 \nC -0.795609 -3 -1.55874 -2.683901 -2.12132 -2.12132 \nC -2.683901 -1.55874 -3 -0.795609 -3 0 \nC -3 0.795609 -2.683901 1.55874 -2.12132 2.12132 \nC -1.55874 2.683901 -0.795609 3 0 3 \nz\n\" id=\"mdc35978c12\" style=\"stroke:#1f77b4;\"/>\n    </defs>\n    <g clip-path=\"url(#p34a803359b)\">\n     <use style=\"fill:#1f77b4;stroke:#1f77b4;\" x=\"54.868182\" xlink:href=\"#mdc35978c12\" y=\"214.756364\"/>\n     <use style=\"fill:#1f77b4;stroke:#1f77b4;\" x=\"68.702893\" xlink:href=\"#mdc35978c12\" y=\"201.560301\"/>\n     <use style=\"fill:#1f77b4;stroke:#1f77b4;\" x=\"82.537603\" xlink:href=\"#mdc35978c12\" y=\"164.815167\"/>\n     <use style=\"fill:#1f77b4;stroke:#1f77b4;\" x=\"96.372314\" xlink:href=\"#mdc35978c12\" y=\"167.604579\"/>\n     <use style=\"fill:#1f77b4;stroke:#1f77b4;\" x=\"110.207025\" xlink:href=\"#mdc35978c12\" y=\"110.153428\"/>\n     <use style=\"fill:#1f77b4;stroke:#1f77b4;\" x=\"124.041736\" xlink:href=\"#mdc35978c12\" y=\"73.944719\"/>\n     <use style=\"fill:#1f77b4;stroke:#1f77b4;\" x=\"137.876446\" xlink:href=\"#mdc35978c12\" y=\"17.083636\"/>\n     <use style=\"fill:#1f77b4;stroke:#1f77b4;\" x=\"151.711157\" xlink:href=\"#mdc35978c12\" y=\"18.156487\"/>\n     <use style=\"fill:#1f77b4;stroke:#1f77b4;\" x=\"165.545868\" xlink:href=\"#mdc35978c12\" y=\"37.521441\"/>\n     <use style=\"fill:#1f77b4;stroke:#1f77b4;\" x=\"179.380579\" xlink:href=\"#mdc35978c12\" y=\"84.297728\"/>\n     <use style=\"fill:#1f77b4;stroke:#1f77b4;\" x=\"193.215289\" xlink:href=\"#mdc35978c12\" y=\"45.836033\"/>\n     <use style=\"fill:#1f77b4;stroke:#1f77b4;\" x=\"207.05\" xlink:href=\"#mdc35978c12\" y=\"75.87585\"/>\n     <use style=\"fill:#1f77b4;stroke:#1f77b4;\" x=\"220.884711\" xlink:href=\"#mdc35978c12\" y=\"112.138202\"/>\n     <use style=\"fill:#1f77b4;stroke:#1f77b4;\" x=\"234.719421\" xlink:href=\"#mdc35978c12\" y=\"154.944941\"/>\n     <use style=\"fill:#1f77b4;stroke:#1f77b4;\" x=\"248.554132\" xlink:href=\"#mdc35978c12\" y=\"157.090643\"/>\n     <use style=\"fill:#1f77b4;stroke:#1f77b4;\" x=\"262.388843\" xlink:href=\"#mdc35978c12\" y=\"114.176618\"/>\n     <use style=\"fill:#1f77b4;stroke:#1f77b4;\" x=\"276.223554\" xlink:href=\"#mdc35978c12\" y=\"99.907704\"/>\n     <use style=\"fill:#1f77b4;stroke:#1f77b4;\" x=\"290.058264\" xlink:href=\"#mdc35978c12\" y=\"120.399151\"/>\n     <use style=\"fill:#1f77b4;stroke:#1f77b4;\" x=\"303.892975\" xlink:href=\"#mdc35978c12\" y=\"48.035377\"/>\n     <use style=\"fill:#1f77b4;stroke:#1f77b4;\" x=\"317.727686\" xlink:href=\"#mdc35978c12\" y=\"53.936055\"/>\n     <use style=\"fill:#1f77b4;stroke:#1f77b4;\" x=\"331.562397\" xlink:href=\"#mdc35978c12\" y=\"41.866486\"/>\n     <use style=\"fill:#1f77b4;stroke:#1f77b4;\" x=\"345.397107\" xlink:href=\"#mdc35978c12\" y=\"89.286483\"/>\n     <use style=\"fill:#1f77b4;stroke:#1f77b4;\" x=\"359.231818\" xlink:href=\"#mdc35978c12\" y=\"103.609039\"/>\n    </g>\n   </g>\n   <g id=\"matplotlib.axis_1\">\n    <g id=\"xtick_1\">\n     <g id=\"line2d_1\">\n      <defs>\n       <path d=\"M 0 0 \nL 0 3.5 \n\" id=\"m6165ec1f4a\" style=\"stroke:#000000;stroke-width:0.8;\"/>\n      </defs>\n      <g>\n       <use style=\"stroke:#000000;stroke-width:0.8;\" x=\"96.372314\" xlink:href=\"#m6165ec1f4a\" y=\"224.64\"/>\n      </g>\n     </g>\n     <g id=\"text_1\">\n      <!-- 2000 -->\n      <g transform=\"translate(83.647314 239.238437)scale(0.1 -0.1)\">\n       <defs>\n        <path d=\"M 19.1875 8.296875 \nL 53.609375 8.296875 \nL 53.609375 0 \nL 7.328125 0 \nL 7.328125 8.296875 \nQ 12.9375 14.109375 22.625 23.890625 \nQ 32.328125 33.6875 34.8125 36.53125 \nQ 39.546875 41.84375 41.421875 45.53125 \nQ 43.3125 49.21875 43.3125 52.78125 \nQ 43.3125 58.59375 39.234375 62.25 \nQ 35.15625 65.921875 28.609375 65.921875 \nQ 23.96875 65.921875 18.8125 64.3125 \nQ 13.671875 62.703125 7.8125 59.421875 \nL 7.8125 69.390625 \nQ 13.765625 71.78125 18.9375 73 \nQ 24.125 74.21875 28.421875 74.21875 \nQ 39.75 74.21875 46.484375 68.546875 \nQ 53.21875 62.890625 53.21875 53.421875 \nQ 53.21875 48.921875 51.53125 44.890625 \nQ 49.859375 40.875 45.40625 35.40625 \nQ 44.1875 33.984375 37.640625 27.21875 \nQ 31.109375 20.453125 19.1875 8.296875 \nz\n\" id=\"DejaVuSans-50\"/>\n        <path d=\"M 31.78125 66.40625 \nQ 24.171875 66.40625 20.328125 58.90625 \nQ 16.5 51.421875 16.5 36.375 \nQ 16.5 21.390625 20.328125 13.890625 \nQ 24.171875 6.390625 31.78125 6.390625 \nQ 39.453125 6.390625 43.28125 13.890625 \nQ 47.125 21.390625 47.125 36.375 \nQ 47.125 51.421875 43.28125 58.90625 \nQ 39.453125 66.40625 31.78125 66.40625 \nz\nM 31.78125 74.21875 \nQ 44.046875 74.21875 50.515625 64.515625 \nQ 56.984375 54.828125 56.984375 36.375 \nQ 56.984375 17.96875 50.515625 8.265625 \nQ 44.046875 -1.421875 31.78125 -1.421875 \nQ 19.53125 -1.421875 13.0625 8.265625 \nQ 6.59375 17.96875 6.59375 36.375 \nQ 6.59375 54.828125 13.0625 64.515625 \nQ 19.53125 74.21875 31.78125 74.21875 \nz\n\" id=\"DejaVuSans-48\"/>\n       </defs>\n       <use xlink:href=\"#DejaVuSans-50\"/>\n       <use x=\"63.623047\" xlink:href=\"#DejaVuSans-48\"/>\n       <use x=\"127.246094\" xlink:href=\"#DejaVuSans-48\"/>\n       <use x=\"190.869141\" xlink:href=\"#DejaVuSans-48\"/>\n      </g>\n     </g>\n    </g>\n    <g id=\"xtick_2\">\n     <g id=\"line2d_2\">\n      <g>\n       <use style=\"stroke:#000000;stroke-width:0.8;\" x=\"165.545868\" xlink:href=\"#m6165ec1f4a\" y=\"224.64\"/>\n      </g>\n     </g>\n     <g id=\"text_2\">\n      <!-- 2005 -->\n      <g transform=\"translate(152.820868 239.238437)scale(0.1 -0.1)\">\n       <defs>\n        <path d=\"M 10.796875 72.90625 \nL 49.515625 72.90625 \nL 49.515625 64.59375 \nL 19.828125 64.59375 \nL 19.828125 46.734375 \nQ 21.96875 47.46875 24.109375 47.828125 \nQ 26.265625 48.1875 28.421875 48.1875 \nQ 40.625 48.1875 47.75 41.5 \nQ 54.890625 34.8125 54.890625 23.390625 \nQ 54.890625 11.625 47.5625 5.09375 \nQ 40.234375 -1.421875 26.90625 -1.421875 \nQ 22.3125 -1.421875 17.546875 -0.640625 \nQ 12.796875 0.140625 7.71875 1.703125 \nL 7.71875 11.625 \nQ 12.109375 9.234375 16.796875 8.0625 \nQ 21.484375 6.890625 26.703125 6.890625 \nQ 35.15625 6.890625 40.078125 11.328125 \nQ 45.015625 15.765625 45.015625 23.390625 \nQ 45.015625 31 40.078125 35.4375 \nQ 35.15625 39.890625 26.703125 39.890625 \nQ 22.75 39.890625 18.8125 39.015625 \nQ 14.890625 38.140625 10.796875 36.28125 \nz\n\" id=\"DejaVuSans-53\"/>\n       </defs>\n       <use xlink:href=\"#DejaVuSans-50\"/>\n       <use x=\"63.623047\" xlink:href=\"#DejaVuSans-48\"/>\n       <use x=\"127.246094\" xlink:href=\"#DejaVuSans-48\"/>\n       <use x=\"190.869141\" xlink:href=\"#DejaVuSans-53\"/>\n      </g>\n     </g>\n    </g>\n    <g id=\"xtick_3\">\n     <g id=\"line2d_3\">\n      <g>\n       <use style=\"stroke:#000000;stroke-width:0.8;\" x=\"234.719421\" xlink:href=\"#m6165ec1f4a\" y=\"224.64\"/>\n      </g>\n     </g>\n     <g id=\"text_3\">\n      <!-- 2010 -->\n      <g transform=\"translate(221.994421 239.238437)scale(0.1 -0.1)\">\n       <defs>\n        <path d=\"M 12.40625 8.296875 \nL 28.515625 8.296875 \nL 28.515625 63.921875 \nL 10.984375 60.40625 \nL 10.984375 69.390625 \nL 28.421875 72.90625 \nL 38.28125 72.90625 \nL 38.28125 8.296875 \nL 54.390625 8.296875 \nL 54.390625 0 \nL 12.40625 0 \nz\n\" id=\"DejaVuSans-49\"/>\n       </defs>\n       <use xlink:href=\"#DejaVuSans-50\"/>\n       <use x=\"63.623047\" xlink:href=\"#DejaVuSans-48\"/>\n       <use x=\"127.246094\" xlink:href=\"#DejaVuSans-49\"/>\n       <use x=\"190.869141\" xlink:href=\"#DejaVuSans-48\"/>\n      </g>\n     </g>\n    </g>\n    <g id=\"xtick_4\">\n     <g id=\"line2d_4\">\n      <g>\n       <use style=\"stroke:#000000;stroke-width:0.8;\" x=\"303.892975\" xlink:href=\"#m6165ec1f4a\" y=\"224.64\"/>\n      </g>\n     </g>\n     <g id=\"text_4\">\n      <!-- 2015 -->\n      <g transform=\"translate(291.167975 239.238437)scale(0.1 -0.1)\">\n       <use xlink:href=\"#DejaVuSans-50\"/>\n       <use x=\"63.623047\" xlink:href=\"#DejaVuSans-48\"/>\n       <use x=\"127.246094\" xlink:href=\"#DejaVuSans-49\"/>\n       <use x=\"190.869141\" xlink:href=\"#DejaVuSans-53\"/>\n      </g>\n     </g>\n    </g>\n    <g id=\"xtick_5\">\n     <g id=\"line2d_5\">\n      <g>\n       <use style=\"stroke:#000000;stroke-width:0.8;\" x=\"373.066529\" xlink:href=\"#m6165ec1f4a\" y=\"224.64\"/>\n      </g>\n     </g>\n     <g id=\"text_5\">\n      <!-- 2020 -->\n      <g transform=\"translate(360.341529 239.238437)scale(0.1 -0.1)\">\n       <use xlink:href=\"#DejaVuSans-50\"/>\n       <use x=\"63.623047\" xlink:href=\"#DejaVuSans-48\"/>\n       <use x=\"127.246094\" xlink:href=\"#DejaVuSans-50\"/>\n       <use x=\"190.869141\" xlink:href=\"#DejaVuSans-48\"/>\n      </g>\n     </g>\n    </g>\n   </g>\n   <g id=\"matplotlib.axis_2\">\n    <g id=\"ytick_1\">\n     <g id=\"line2d_6\">\n      <defs>\n       <path d=\"M 0 0 \nL -3.5 0 \n\" id=\"m1a5ee2ccab\" style=\"stroke:#000000;stroke-width:0.8;\"/>\n      </defs>\n      <g>\n       <use style=\"stroke:#000000;stroke-width:0.8;\" x=\"39.65\" xlink:href=\"#m1a5ee2ccab\" y=\"211.055029\"/>\n      </g>\n     </g>\n     <g id=\"text_6\">\n      <!-- 500 -->\n      <g transform=\"translate(13.5625 214.854248)scale(0.1 -0.1)\">\n       <use xlink:href=\"#DejaVuSans-53\"/>\n       <use x=\"63.623047\" xlink:href=\"#DejaVuSans-48\"/>\n       <use x=\"127.246094\" xlink:href=\"#DejaVuSans-48\"/>\n      </g>\n     </g>\n    </g>\n    <g id=\"ytick_2\">\n     <g id=\"line2d_7\">\n      <g>\n       <use style=\"stroke:#000000;stroke-width:0.8;\" x=\"39.65\" xlink:href=\"#m1a5ee2ccab\" y=\"184.233763\"/>\n      </g>\n     </g>\n     <g id=\"text_7\">\n      <!-- 1000 -->\n      <g transform=\"translate(7.2 188.032982)scale(0.1 -0.1)\">\n       <use xlink:href=\"#DejaVuSans-49\"/>\n       <use x=\"63.623047\" xlink:href=\"#DejaVuSans-48\"/>\n       <use x=\"127.246094\" xlink:href=\"#DejaVuSans-48\"/>\n       <use x=\"190.869141\" xlink:href=\"#DejaVuSans-48\"/>\n      </g>\n     </g>\n    </g>\n    <g id=\"ytick_3\">\n     <g id=\"line2d_8\">\n      <g>\n       <use style=\"stroke:#000000;stroke-width:0.8;\" x=\"39.65\" xlink:href=\"#m1a5ee2ccab\" y=\"157.412498\"/>\n      </g>\n     </g>\n     <g id=\"text_8\">\n      <!-- 1500 -->\n      <g transform=\"translate(7.2 161.211717)scale(0.1 -0.1)\">\n       <use xlink:href=\"#DejaVuSans-49\"/>\n       <use x=\"63.623047\" xlink:href=\"#DejaVuSans-53\"/>\n       <use x=\"127.246094\" xlink:href=\"#DejaVuSans-48\"/>\n       <use x=\"190.869141\" xlink:href=\"#DejaVuSans-48\"/>\n      </g>\n     </g>\n    </g>\n    <g id=\"ytick_4\">\n     <g id=\"line2d_9\">\n      <g>\n       <use style=\"stroke:#000000;stroke-width:0.8;\" x=\"39.65\" xlink:href=\"#m1a5ee2ccab\" y=\"130.591232\"/>\n      </g>\n     </g>\n     <g id=\"text_9\">\n      <!-- 2000 -->\n      <g transform=\"translate(7.2 134.390451)scale(0.1 -0.1)\">\n       <use xlink:href=\"#DejaVuSans-50\"/>\n       <use x=\"63.623047\" xlink:href=\"#DejaVuSans-48\"/>\n       <use x=\"127.246094\" xlink:href=\"#DejaVuSans-48\"/>\n       <use x=\"190.869141\" xlink:href=\"#DejaVuSans-48\"/>\n      </g>\n     </g>\n    </g>\n    <g id=\"ytick_5\">\n     <g id=\"line2d_10\">\n      <g>\n       <use style=\"stroke:#000000;stroke-width:0.8;\" x=\"39.65\" xlink:href=\"#m1a5ee2ccab\" y=\"103.769967\"/>\n      </g>\n     </g>\n     <g id=\"text_10\">\n      <!-- 2500 -->\n      <g transform=\"translate(7.2 107.569185)scale(0.1 -0.1)\">\n       <use xlink:href=\"#DejaVuSans-50\"/>\n       <use x=\"63.623047\" xlink:href=\"#DejaVuSans-53\"/>\n       <use x=\"127.246094\" xlink:href=\"#DejaVuSans-48\"/>\n       <use x=\"190.869141\" xlink:href=\"#DejaVuSans-48\"/>\n      </g>\n     </g>\n    </g>\n    <g id=\"ytick_6\">\n     <g id=\"line2d_11\">\n      <g>\n       <use style=\"stroke:#000000;stroke-width:0.8;\" x=\"39.65\" xlink:href=\"#m1a5ee2ccab\" y=\"76.948701\"/>\n      </g>\n     </g>\n     <g id=\"text_11\">\n      <!-- 3000 -->\n      <g transform=\"translate(7.2 80.74792)scale(0.1 -0.1)\">\n       <defs>\n        <path d=\"M 40.578125 39.3125 \nQ 47.65625 37.796875 51.625 33 \nQ 55.609375 28.21875 55.609375 21.1875 \nQ 55.609375 10.40625 48.1875 4.484375 \nQ 40.765625 -1.421875 27.09375 -1.421875 \nQ 22.515625 -1.421875 17.65625 -0.515625 \nQ 12.796875 0.390625 7.625 2.203125 \nL 7.625 11.71875 \nQ 11.71875 9.328125 16.59375 8.109375 \nQ 21.484375 6.890625 26.8125 6.890625 \nQ 36.078125 6.890625 40.9375 10.546875 \nQ 45.796875 14.203125 45.796875 21.1875 \nQ 45.796875 27.640625 41.28125 31.265625 \nQ 36.765625 34.90625 28.71875 34.90625 \nL 20.21875 34.90625 \nL 20.21875 43.015625 \nL 29.109375 43.015625 \nQ 36.375 43.015625 40.234375 45.921875 \nQ 44.09375 48.828125 44.09375 54.296875 \nQ 44.09375 59.90625 40.109375 62.90625 \nQ 36.140625 65.921875 28.71875 65.921875 \nQ 24.65625 65.921875 20.015625 65.03125 \nQ 15.375 64.15625 9.8125 62.3125 \nL 9.8125 71.09375 \nQ 15.4375 72.65625 20.34375 73.4375 \nQ 25.25 74.21875 29.59375 74.21875 \nQ 40.828125 74.21875 47.359375 69.109375 \nQ 53.90625 64.015625 53.90625 55.328125 \nQ 53.90625 49.265625 50.4375 45.09375 \nQ 46.96875 40.921875 40.578125 39.3125 \nz\n\" id=\"DejaVuSans-51\"/>\n       </defs>\n       <use xlink:href=\"#DejaVuSans-51\"/>\n       <use x=\"63.623047\" xlink:href=\"#DejaVuSans-48\"/>\n       <use x=\"127.246094\" xlink:href=\"#DejaVuSans-48\"/>\n       <use x=\"190.869141\" xlink:href=\"#DejaVuSans-48\"/>\n      </g>\n     </g>\n    </g>\n    <g id=\"ytick_7\">\n     <g id=\"line2d_12\">\n      <g>\n       <use style=\"stroke:#000000;stroke-width:0.8;\" x=\"39.65\" xlink:href=\"#m1a5ee2ccab\" y=\"50.127436\"/>\n      </g>\n     </g>\n     <g id=\"text_12\">\n      <!-- 3500 -->\n      <g transform=\"translate(7.2 53.926654)scale(0.1 -0.1)\">\n       <use xlink:href=\"#DejaVuSans-51\"/>\n       <use x=\"63.623047\" xlink:href=\"#DejaVuSans-53\"/>\n       <use x=\"127.246094\" xlink:href=\"#DejaVuSans-48\"/>\n       <use x=\"190.869141\" xlink:href=\"#DejaVuSans-48\"/>\n      </g>\n     </g>\n    </g>\n    <g id=\"ytick_8\">\n     <g id=\"line2d_13\">\n      <g>\n       <use style=\"stroke:#000000;stroke-width:0.8;\" x=\"39.65\" xlink:href=\"#m1a5ee2ccab\" y=\"23.30617\"/>\n      </g>\n     </g>\n     <g id=\"text_13\">\n      <!-- 4000 -->\n      <g transform=\"translate(7.2 27.105389)scale(0.1 -0.1)\">\n       <defs>\n        <path d=\"M 37.796875 64.3125 \nL 12.890625 25.390625 \nL 37.796875 25.390625 \nz\nM 35.203125 72.90625 \nL 47.609375 72.90625 \nL 47.609375 25.390625 \nL 58.015625 25.390625 \nL 58.015625 17.1875 \nL 47.609375 17.1875 \nL 47.609375 0 \nL 37.796875 0 \nL 37.796875 17.1875 \nL 4.890625 17.1875 \nL 4.890625 26.703125 \nz\n\" id=\"DejaVuSans-52\"/>\n       </defs>\n       <use xlink:href=\"#DejaVuSans-52\"/>\n       <use x=\"63.623047\" xlink:href=\"#DejaVuSans-48\"/>\n       <use x=\"127.246094\" xlink:href=\"#DejaVuSans-48\"/>\n       <use x=\"190.869141\" xlink:href=\"#DejaVuSans-48\"/>\n      </g>\n     </g>\n    </g>\n   </g>\n   <g id=\"patch_3\">\n    <path d=\"M 39.65 224.64 \nL 39.65 7.2 \n\" style=\"fill:none;stroke:#000000;stroke-linecap:square;stroke-linejoin:miter;stroke-width:0.8;\"/>\n   </g>\n   <g id=\"patch_4\">\n    <path d=\"M 374.45 224.64 \nL 374.45 7.2 \n\" style=\"fill:none;stroke:#000000;stroke-linecap:square;stroke-linejoin:miter;stroke-width:0.8;\"/>\n   </g>\n   <g id=\"patch_5\">\n    <path d=\"M 39.65 224.64 \nL 374.45 224.64 \n\" style=\"fill:none;stroke:#000000;stroke-linecap:square;stroke-linejoin:miter;stroke-width:0.8;\"/>\n   </g>\n   <g id=\"patch_6\">\n    <path d=\"M 39.65 7.2 \nL 374.45 7.2 \n\" style=\"fill:none;stroke:#000000;stroke-linecap:square;stroke-linejoin:miter;stroke-width:0.8;\"/>\n   </g>\n  </g>\n </g>\n <defs>\n  <clipPath id=\"p34a803359b\">\n   <rect height=\"217.44\" width=\"334.8\" x=\"39.65\" y=\"7.2\"/>\n  </clipPath>\n </defs>\n</svg>\n",
      "image/png": "[encoded data removed]"
     },
     "metadata": {
      "needs_background": "light"
     }
    }
   ],
   "source": [
    "plt.scatter(array_datos_anios, array_datos_valor)"
   ]
  },
  {
   "cell_type": "code",
   "execution_count": null,
   "metadata": {},
   "outputs": [],
   "source": []
  }
 ]
}